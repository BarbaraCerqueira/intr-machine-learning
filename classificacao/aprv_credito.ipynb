{
 "cells": [
  {
   "cell_type": "markdown",
   "metadata": {},
   "source": [
    "# EEL891 - 2023.02 - Trabalho 1\n",
    "\n",
    "Este trabalho envolve construir um classificador para apoio à decisão de aprovação de crédito.\n",
    "\n",
    "Este deve identificar, dentre os clientes que solicitam um produto de créditoe que cumprem os pré-requisitos essenciais para a aprovação do crédito, aqueles que apresentem alto risco de não conseguirem honrar o pagamento, tornando-se inadimplentes."
   ]
  },
  {
   "cell_type": "code",
   "execution_count": 2,
   "metadata": {},
   "outputs": [],
   "source": [
    "import numpy as np\n",
    "import pandas as pd\n",
    "import matplotlib.pyplot as plt\n",
    "import seaborn as sns\n",
    "from scipy import stats\n",
    "\n",
    "from sklearn.preprocessing import StandardScaler, OneHotEncoder, MinMaxScaler\n",
    "from sklearn.model_selection import GridSearchCV, cross_val_score\n",
    "from sklearn.ensemble import GradientBoostingClassifier, RandomForestClassifier\n",
    "from sklearn.linear_model import LogisticRegression, SGDClassifier\n",
    "from sklearn.tree import DecisionTreeClassifier\n",
    "from sklearn.neighbors import KNeighborsClassifier\n",
    "from sklearn.naive_bayes import GaussianNB"
   ]
  },
  {
   "cell_type": "markdown",
   "metadata": {},
   "source": [
    "## 1. Lendo e organizando dados\n",
    "\n",
    "Aqui estou lendo os dados de teste e treinamento dos arquivos csv e depois juntando-os em um só arquivo \"credito_df\" para que possamos fazer o pré-processamento de uma vez só.\n",
    "\n",
    "\"split_index\" é uma variável para guardar o ponto de junção dos conjuntos de dados (corresponde ao primeiro índice de 'credito_df' que faz parte do test set) para que depois eles possam ser separados de novo. \"id_soliciante\" guarda os IDs dos solicitantes que terão seu campo 'inadimplente' previsto pelo modelo; estes IDs farão parte do arquivo de saída que será enviado ao Kaggle e foram separados para facilitar."
   ]
  },
  {
   "cell_type": "code",
   "execution_count": 3,
   "metadata": {},
   "outputs": [],
   "source": [
    "train = pd.read_csv('conjunto_de_treinamento.csv')\n",
    "test = pd.read_csv('conjunto_de_teste.csv')"
   ]
  },
  {
   "cell_type": "code",
   "execution_count": 4,
   "metadata": {},
   "outputs": [
    {
     "data": {
      "text/html": [
       "<div>\n",
       "<style scoped>\n",
       "    .dataframe tbody tr th:only-of-type {\n",
       "        vertical-align: middle;\n",
       "    }\n",
       "\n",
       "    .dataframe tbody tr th {\n",
       "        vertical-align: top;\n",
       "    }\n",
       "\n",
       "    .dataframe thead th {\n",
       "        text-align: right;\n",
       "    }\n",
       "</style>\n",
       "<table border=\"1\" class=\"dataframe\">\n",
       "  <thead>\n",
       "    <tr style=\"text-align: right;\">\n",
       "      <th></th>\n",
       "      <th>id_solicitante</th>\n",
       "      <th>produto_solicitado</th>\n",
       "      <th>dia_vencimento</th>\n",
       "      <th>forma_envio_solicitacao</th>\n",
       "      <th>tipo_endereco</th>\n",
       "      <th>sexo</th>\n",
       "      <th>idade</th>\n",
       "      <th>estado_civil</th>\n",
       "      <th>qtde_dependentes</th>\n",
       "      <th>grau_instrucao</th>\n",
       "      <th>...</th>\n",
       "      <th>possui_telefone_trabalho</th>\n",
       "      <th>codigo_area_telefone_trabalho</th>\n",
       "      <th>meses_no_trabalho</th>\n",
       "      <th>profissao</th>\n",
       "      <th>ocupacao</th>\n",
       "      <th>profissao_companheiro</th>\n",
       "      <th>grau_instrucao_companheiro</th>\n",
       "      <th>local_onde_reside</th>\n",
       "      <th>local_onde_trabalha</th>\n",
       "      <th>inadimplente</th>\n",
       "    </tr>\n",
       "  </thead>\n",
       "  <tbody>\n",
       "    <tr>\n",
       "      <th>0</th>\n",
       "      <td>1</td>\n",
       "      <td>1</td>\n",
       "      <td>10</td>\n",
       "      <td>presencial</td>\n",
       "      <td>1</td>\n",
       "      <td>M</td>\n",
       "      <td>85</td>\n",
       "      <td>2</td>\n",
       "      <td>0</td>\n",
       "      <td>0</td>\n",
       "      <td>...</td>\n",
       "      <td>N</td>\n",
       "      <td></td>\n",
       "      <td>0</td>\n",
       "      <td>9.0</td>\n",
       "      <td>1.0</td>\n",
       "      <td>0.0</td>\n",
       "      <td>0.0</td>\n",
       "      <td>600.0</td>\n",
       "      <td>600.0</td>\n",
       "      <td>0</td>\n",
       "    </tr>\n",
       "    <tr>\n",
       "      <th>1</th>\n",
       "      <td>2</td>\n",
       "      <td>1</td>\n",
       "      <td>25</td>\n",
       "      <td>internet</td>\n",
       "      <td>1</td>\n",
       "      <td>F</td>\n",
       "      <td>38</td>\n",
       "      <td>1</td>\n",
       "      <td>0</td>\n",
       "      <td>0</td>\n",
       "      <td>...</td>\n",
       "      <td>N</td>\n",
       "      <td></td>\n",
       "      <td>0</td>\n",
       "      <td>2.0</td>\n",
       "      <td>5.0</td>\n",
       "      <td>NaN</td>\n",
       "      <td>NaN</td>\n",
       "      <td>492.0</td>\n",
       "      <td>492.0</td>\n",
       "      <td>0</td>\n",
       "    </tr>\n",
       "    <tr>\n",
       "      <th>2</th>\n",
       "      <td>3</td>\n",
       "      <td>1</td>\n",
       "      <td>20</td>\n",
       "      <td>internet</td>\n",
       "      <td>1</td>\n",
       "      <td>F</td>\n",
       "      <td>37</td>\n",
       "      <td>2</td>\n",
       "      <td>0</td>\n",
       "      <td>0</td>\n",
       "      <td>...</td>\n",
       "      <td>N</td>\n",
       "      <td></td>\n",
       "      <td>0</td>\n",
       "      <td>NaN</td>\n",
       "      <td>NaN</td>\n",
       "      <td>NaN</td>\n",
       "      <td>NaN</td>\n",
       "      <td>450.0</td>\n",
       "      <td>450.0</td>\n",
       "      <td>1</td>\n",
       "    </tr>\n",
       "    <tr>\n",
       "      <th>3</th>\n",
       "      <td>4</td>\n",
       "      <td>1</td>\n",
       "      <td>20</td>\n",
       "      <td>internet</td>\n",
       "      <td>1</td>\n",
       "      <td>M</td>\n",
       "      <td>37</td>\n",
       "      <td>1</td>\n",
       "      <td>1</td>\n",
       "      <td>0</td>\n",
       "      <td>...</td>\n",
       "      <td>Y</td>\n",
       "      <td>54</td>\n",
       "      <td>0</td>\n",
       "      <td>9.0</td>\n",
       "      <td>2.0</td>\n",
       "      <td>NaN</td>\n",
       "      <td>NaN</td>\n",
       "      <td>932.0</td>\n",
       "      <td>932.0</td>\n",
       "      <td>1</td>\n",
       "    </tr>\n",
       "    <tr>\n",
       "      <th>4</th>\n",
       "      <td>5</td>\n",
       "      <td>7</td>\n",
       "      <td>1</td>\n",
       "      <td>internet</td>\n",
       "      <td>1</td>\n",
       "      <td>F</td>\n",
       "      <td>51</td>\n",
       "      <td>1</td>\n",
       "      <td>3</td>\n",
       "      <td>0</td>\n",
       "      <td>...</td>\n",
       "      <td>N</td>\n",
       "      <td></td>\n",
       "      <td>0</td>\n",
       "      <td>9.0</td>\n",
       "      <td>5.0</td>\n",
       "      <td>NaN</td>\n",
       "      <td>NaN</td>\n",
       "      <td>440.0</td>\n",
       "      <td>440.0</td>\n",
       "      <td>1</td>\n",
       "    </tr>\n",
       "  </tbody>\n",
       "</table>\n",
       "<p>5 rows × 42 columns</p>\n",
       "</div>"
      ],
      "text/plain": [
       "   id_solicitante  produto_solicitado  dia_vencimento forma_envio_solicitacao  \\\n",
       "0               1                   1              10              presencial   \n",
       "1               2                   1              25                internet   \n",
       "2               3                   1              20                internet   \n",
       "3               4                   1              20                internet   \n",
       "4               5                   7               1                internet   \n",
       "\n",
       "   tipo_endereco sexo  idade  estado_civil  qtde_dependentes  grau_instrucao  \\\n",
       "0              1    M     85             2                 0               0   \n",
       "1              1    F     38             1                 0               0   \n",
       "2              1    F     37             2                 0               0   \n",
       "3              1    M     37             1                 1               0   \n",
       "4              1    F     51             1                 3               0   \n",
       "\n",
       "   ...  possui_telefone_trabalho codigo_area_telefone_trabalho  \\\n",
       "0  ...                         N                                 \n",
       "1  ...                         N                                 \n",
       "2  ...                         N                                 \n",
       "3  ...                         Y                            54   \n",
       "4  ...                         N                                 \n",
       "\n",
       "  meses_no_trabalho profissao ocupacao  profissao_companheiro  \\\n",
       "0                 0       9.0      1.0                    0.0   \n",
       "1                 0       2.0      5.0                    NaN   \n",
       "2                 0       NaN      NaN                    NaN   \n",
       "3                 0       9.0      2.0                    NaN   \n",
       "4                 0       9.0      5.0                    NaN   \n",
       "\n",
       "   grau_instrucao_companheiro local_onde_reside  local_onde_trabalha  \\\n",
       "0                         0.0             600.0                600.0   \n",
       "1                         NaN             492.0                492.0   \n",
       "2                         NaN             450.0                450.0   \n",
       "3                         NaN             932.0                932.0   \n",
       "4                         NaN             440.0                440.0   \n",
       "\n",
       "   inadimplente  \n",
       "0             0  \n",
       "1             0  \n",
       "2             1  \n",
       "3             1  \n",
       "4             1  \n",
       "\n",
       "[5 rows x 42 columns]"
      ]
     },
     "execution_count": 4,
     "metadata": {},
     "output_type": "execute_result"
    }
   ],
   "source": [
    "train.head()"
   ]
  },
  {
   "cell_type": "code",
   "execution_count": 5,
   "metadata": {},
   "outputs": [],
   "source": [
    "# Salvar id_solicitante para auxiliar na criação do arquivo que será enviado ao Kaggle\n",
    "id_soliciante = test['id_solicitante']\n",
    "\n",
    "# Criando um DF novo com o train e o test\n",
    "credito_df = pd.concat([train, test], ignore_index=True)"
   ]
  },
  {
   "cell_type": "code",
   "execution_count": 6,
   "metadata": {},
   "outputs": [],
   "source": [
    "# Para auxiliar no momento separar o DF credito_df em train e test\n",
    "split_index = len(train)"
   ]
  },
  {
   "cell_type": "code",
   "execution_count": 7,
   "metadata": {},
   "outputs": [
    {
     "data": {
      "text/html": [
       "<div>\n",
       "<style scoped>\n",
       "    .dataframe tbody tr th:only-of-type {\n",
       "        vertical-align: middle;\n",
       "    }\n",
       "\n",
       "    .dataframe tbody tr th {\n",
       "        vertical-align: top;\n",
       "    }\n",
       "\n",
       "    .dataframe thead th {\n",
       "        text-align: right;\n",
       "    }\n",
       "</style>\n",
       "<table border=\"1\" class=\"dataframe\">\n",
       "  <thead>\n",
       "    <tr style=\"text-align: right;\">\n",
       "      <th></th>\n",
       "      <th>id_solicitante</th>\n",
       "      <th>produto_solicitado</th>\n",
       "      <th>dia_vencimento</th>\n",
       "      <th>forma_envio_solicitacao</th>\n",
       "      <th>tipo_endereco</th>\n",
       "      <th>sexo</th>\n",
       "      <th>idade</th>\n",
       "      <th>estado_civil</th>\n",
       "      <th>qtde_dependentes</th>\n",
       "      <th>grau_instrucao</th>\n",
       "      <th>...</th>\n",
       "      <th>possui_telefone_trabalho</th>\n",
       "      <th>codigo_area_telefone_trabalho</th>\n",
       "      <th>meses_no_trabalho</th>\n",
       "      <th>profissao</th>\n",
       "      <th>ocupacao</th>\n",
       "      <th>profissao_companheiro</th>\n",
       "      <th>grau_instrucao_companheiro</th>\n",
       "      <th>local_onde_reside</th>\n",
       "      <th>local_onde_trabalha</th>\n",
       "      <th>inadimplente</th>\n",
       "    </tr>\n",
       "  </thead>\n",
       "  <tbody>\n",
       "    <tr>\n",
       "      <th>0</th>\n",
       "      <td>1</td>\n",
       "      <td>1</td>\n",
       "      <td>10</td>\n",
       "      <td>presencial</td>\n",
       "      <td>1</td>\n",
       "      <td>M</td>\n",
       "      <td>85</td>\n",
       "      <td>2</td>\n",
       "      <td>0</td>\n",
       "      <td>0</td>\n",
       "      <td>...</td>\n",
       "      <td>N</td>\n",
       "      <td></td>\n",
       "      <td>0</td>\n",
       "      <td>9.0</td>\n",
       "      <td>1.0</td>\n",
       "      <td>0.0</td>\n",
       "      <td>0.0</td>\n",
       "      <td>600.0</td>\n",
       "      <td>600.0</td>\n",
       "      <td>0.0</td>\n",
       "    </tr>\n",
       "    <tr>\n",
       "      <th>1</th>\n",
       "      <td>2</td>\n",
       "      <td>1</td>\n",
       "      <td>25</td>\n",
       "      <td>internet</td>\n",
       "      <td>1</td>\n",
       "      <td>F</td>\n",
       "      <td>38</td>\n",
       "      <td>1</td>\n",
       "      <td>0</td>\n",
       "      <td>0</td>\n",
       "      <td>...</td>\n",
       "      <td>N</td>\n",
       "      <td></td>\n",
       "      <td>0</td>\n",
       "      <td>2.0</td>\n",
       "      <td>5.0</td>\n",
       "      <td>NaN</td>\n",
       "      <td>NaN</td>\n",
       "      <td>492.0</td>\n",
       "      <td>492.0</td>\n",
       "      <td>0.0</td>\n",
       "    </tr>\n",
       "    <tr>\n",
       "      <th>2</th>\n",
       "      <td>3</td>\n",
       "      <td>1</td>\n",
       "      <td>20</td>\n",
       "      <td>internet</td>\n",
       "      <td>1</td>\n",
       "      <td>F</td>\n",
       "      <td>37</td>\n",
       "      <td>2</td>\n",
       "      <td>0</td>\n",
       "      <td>0</td>\n",
       "      <td>...</td>\n",
       "      <td>N</td>\n",
       "      <td></td>\n",
       "      <td>0</td>\n",
       "      <td>NaN</td>\n",
       "      <td>NaN</td>\n",
       "      <td>NaN</td>\n",
       "      <td>NaN</td>\n",
       "      <td>450.0</td>\n",
       "      <td>450.0</td>\n",
       "      <td>1.0</td>\n",
       "    </tr>\n",
       "    <tr>\n",
       "      <th>3</th>\n",
       "      <td>4</td>\n",
       "      <td>1</td>\n",
       "      <td>20</td>\n",
       "      <td>internet</td>\n",
       "      <td>1</td>\n",
       "      <td>M</td>\n",
       "      <td>37</td>\n",
       "      <td>1</td>\n",
       "      <td>1</td>\n",
       "      <td>0</td>\n",
       "      <td>...</td>\n",
       "      <td>Y</td>\n",
       "      <td>54</td>\n",
       "      <td>0</td>\n",
       "      <td>9.0</td>\n",
       "      <td>2.0</td>\n",
       "      <td>NaN</td>\n",
       "      <td>NaN</td>\n",
       "      <td>932.0</td>\n",
       "      <td>932.0</td>\n",
       "      <td>1.0</td>\n",
       "    </tr>\n",
       "    <tr>\n",
       "      <th>4</th>\n",
       "      <td>5</td>\n",
       "      <td>7</td>\n",
       "      <td>1</td>\n",
       "      <td>internet</td>\n",
       "      <td>1</td>\n",
       "      <td>F</td>\n",
       "      <td>51</td>\n",
       "      <td>1</td>\n",
       "      <td>3</td>\n",
       "      <td>0</td>\n",
       "      <td>...</td>\n",
       "      <td>N</td>\n",
       "      <td></td>\n",
       "      <td>0</td>\n",
       "      <td>9.0</td>\n",
       "      <td>5.0</td>\n",
       "      <td>NaN</td>\n",
       "      <td>NaN</td>\n",
       "      <td>440.0</td>\n",
       "      <td>440.0</td>\n",
       "      <td>1.0</td>\n",
       "    </tr>\n",
       "    <tr>\n",
       "      <th>...</th>\n",
       "      <td>...</td>\n",
       "      <td>...</td>\n",
       "      <td>...</td>\n",
       "      <td>...</td>\n",
       "      <td>...</td>\n",
       "      <td>...</td>\n",
       "      <td>...</td>\n",
       "      <td>...</td>\n",
       "      <td>...</td>\n",
       "      <td>...</td>\n",
       "      <td>...</td>\n",
       "      <td>...</td>\n",
       "      <td>...</td>\n",
       "      <td>...</td>\n",
       "      <td>...</td>\n",
       "      <td>...</td>\n",
       "      <td>...</td>\n",
       "      <td>...</td>\n",
       "      <td>...</td>\n",
       "      <td>...</td>\n",
       "      <td>...</td>\n",
       "    </tr>\n",
       "    <tr>\n",
       "      <th>24995</th>\n",
       "      <td>24996</td>\n",
       "      <td>1</td>\n",
       "      <td>10</td>\n",
       "      <td>presencial</td>\n",
       "      <td>1</td>\n",
       "      <td>F</td>\n",
       "      <td>49</td>\n",
       "      <td>2</td>\n",
       "      <td>1</td>\n",
       "      <td>0</td>\n",
       "      <td>...</td>\n",
       "      <td>N</td>\n",
       "      <td></td>\n",
       "      <td>0</td>\n",
       "      <td>9.0</td>\n",
       "      <td>1.0</td>\n",
       "      <td>0.0</td>\n",
       "      <td>0.0</td>\n",
       "      <td>652.0</td>\n",
       "      <td>652.0</td>\n",
       "      <td>NaN</td>\n",
       "    </tr>\n",
       "    <tr>\n",
       "      <th>24996</th>\n",
       "      <td>24997</td>\n",
       "      <td>1</td>\n",
       "      <td>5</td>\n",
       "      <td>internet</td>\n",
       "      <td>1</td>\n",
       "      <td>M</td>\n",
       "      <td>18</td>\n",
       "      <td>2</td>\n",
       "      <td>0</td>\n",
       "      <td>0</td>\n",
       "      <td>...</td>\n",
       "      <td>N</td>\n",
       "      <td></td>\n",
       "      <td>0</td>\n",
       "      <td>NaN</td>\n",
       "      <td>NaN</td>\n",
       "      <td>NaN</td>\n",
       "      <td>NaN</td>\n",
       "      <td>855.0</td>\n",
       "      <td>855.0</td>\n",
       "      <td>NaN</td>\n",
       "    </tr>\n",
       "    <tr>\n",
       "      <th>24997</th>\n",
       "      <td>24998</td>\n",
       "      <td>1</td>\n",
       "      <td>10</td>\n",
       "      <td>presencial</td>\n",
       "      <td>1</td>\n",
       "      <td>F</td>\n",
       "      <td>29</td>\n",
       "      <td>1</td>\n",
       "      <td>0</td>\n",
       "      <td>0</td>\n",
       "      <td>...</td>\n",
       "      <td>N</td>\n",
       "      <td></td>\n",
       "      <td>0</td>\n",
       "      <td>9.0</td>\n",
       "      <td>5.0</td>\n",
       "      <td>NaN</td>\n",
       "      <td>NaN</td>\n",
       "      <td>371.0</td>\n",
       "      <td>371.0</td>\n",
       "      <td>NaN</td>\n",
       "    </tr>\n",
       "    <tr>\n",
       "      <th>24998</th>\n",
       "      <td>24999</td>\n",
       "      <td>1</td>\n",
       "      <td>25</td>\n",
       "      <td>internet</td>\n",
       "      <td>1</td>\n",
       "      <td>F</td>\n",
       "      <td>31</td>\n",
       "      <td>2</td>\n",
       "      <td>2</td>\n",
       "      <td>0</td>\n",
       "      <td>...</td>\n",
       "      <td>N</td>\n",
       "      <td></td>\n",
       "      <td>0</td>\n",
       "      <td>NaN</td>\n",
       "      <td>NaN</td>\n",
       "      <td>NaN</td>\n",
       "      <td>NaN</td>\n",
       "      <td>670.0</td>\n",
       "      <td>670.0</td>\n",
       "      <td>NaN</td>\n",
       "    </tr>\n",
       "    <tr>\n",
       "      <th>24999</th>\n",
       "      <td>25000</td>\n",
       "      <td>1</td>\n",
       "      <td>25</td>\n",
       "      <td>presencial</td>\n",
       "      <td>1</td>\n",
       "      <td>F</td>\n",
       "      <td>54</td>\n",
       "      <td>1</td>\n",
       "      <td>0</td>\n",
       "      <td>0</td>\n",
       "      <td>...</td>\n",
       "      <td>Y</td>\n",
       "      <td>81</td>\n",
       "      <td>0</td>\n",
       "      <td>9.0</td>\n",
       "      <td>5.0</td>\n",
       "      <td>0.0</td>\n",
       "      <td>0.0</td>\n",
       "      <td>402.0</td>\n",
       "      <td>402.0</td>\n",
       "      <td>NaN</td>\n",
       "    </tr>\n",
       "  </tbody>\n",
       "</table>\n",
       "<p>25000 rows × 42 columns</p>\n",
       "</div>"
      ],
      "text/plain": [
       "       id_solicitante  produto_solicitado  dia_vencimento  \\\n",
       "0                   1                   1              10   \n",
       "1                   2                   1              25   \n",
       "2                   3                   1              20   \n",
       "3                   4                   1              20   \n",
       "4                   5                   7               1   \n",
       "...               ...                 ...             ...   \n",
       "24995           24996                   1              10   \n",
       "24996           24997                   1               5   \n",
       "24997           24998                   1              10   \n",
       "24998           24999                   1              25   \n",
       "24999           25000                   1              25   \n",
       "\n",
       "      forma_envio_solicitacao  tipo_endereco sexo  idade  estado_civil  \\\n",
       "0                  presencial              1    M     85             2   \n",
       "1                    internet              1    F     38             1   \n",
       "2                    internet              1    F     37             2   \n",
       "3                    internet              1    M     37             1   \n",
       "4                    internet              1    F     51             1   \n",
       "...                       ...            ...  ...    ...           ...   \n",
       "24995              presencial              1    F     49             2   \n",
       "24996                internet              1    M     18             2   \n",
       "24997              presencial              1    F     29             1   \n",
       "24998                internet              1    F     31             2   \n",
       "24999              presencial              1    F     54             1   \n",
       "\n",
       "       qtde_dependentes  grau_instrucao  ...  possui_telefone_trabalho  \\\n",
       "0                     0               0  ...                         N   \n",
       "1                     0               0  ...                         N   \n",
       "2                     0               0  ...                         N   \n",
       "3                     1               0  ...                         Y   \n",
       "4                     3               0  ...                         N   \n",
       "...                 ...             ...  ...                       ...   \n",
       "24995                 1               0  ...                         N   \n",
       "24996                 0               0  ...                         N   \n",
       "24997                 0               0  ...                         N   \n",
       "24998                 2               0  ...                         N   \n",
       "24999                 0               0  ...                         Y   \n",
       "\n",
       "      codigo_area_telefone_trabalho meses_no_trabalho profissao ocupacao  \\\n",
       "0                                                   0       9.0      1.0   \n",
       "1                                                   0       2.0      5.0   \n",
       "2                                                   0       NaN      NaN   \n",
       "3                                54                 0       9.0      2.0   \n",
       "4                                                   0       9.0      5.0   \n",
       "...                             ...               ...       ...      ...   \n",
       "24995                                               0       9.0      1.0   \n",
       "24996                                               0       NaN      NaN   \n",
       "24997                                               0       9.0      5.0   \n",
       "24998                                               0       NaN      NaN   \n",
       "24999                            81                 0       9.0      5.0   \n",
       "\n",
       "       profissao_companheiro  grau_instrucao_companheiro local_onde_reside  \\\n",
       "0                        0.0                         0.0             600.0   \n",
       "1                        NaN                         NaN             492.0   \n",
       "2                        NaN                         NaN             450.0   \n",
       "3                        NaN                         NaN             932.0   \n",
       "4                        NaN                         NaN             440.0   \n",
       "...                      ...                         ...               ...   \n",
       "24995                    0.0                         0.0             652.0   \n",
       "24996                    NaN                         NaN             855.0   \n",
       "24997                    NaN                         NaN             371.0   \n",
       "24998                    NaN                         NaN             670.0   \n",
       "24999                    0.0                         0.0             402.0   \n",
       "\n",
       "       local_onde_trabalha  inadimplente  \n",
       "0                    600.0           0.0  \n",
       "1                    492.0           0.0  \n",
       "2                    450.0           1.0  \n",
       "3                    932.0           1.0  \n",
       "4                    440.0           1.0  \n",
       "...                    ...           ...  \n",
       "24995                652.0           NaN  \n",
       "24996                855.0           NaN  \n",
       "24997                371.0           NaN  \n",
       "24998                670.0           NaN  \n",
       "24999                402.0           NaN  \n",
       "\n",
       "[25000 rows x 42 columns]"
      ]
     },
     "execution_count": 7,
     "metadata": {},
     "output_type": "execute_result"
    }
   ],
   "source": [
    "credito_df"
   ]
  },
  {
   "cell_type": "markdown",
   "metadata": {},
   "source": [
    "## 2. Preparação dos dados\n",
    "Análise e preparação dos dados para treinamento."
   ]
  },
  {
   "cell_type": "markdown",
   "metadata": {},
   "source": [
    "### 2.1. Valores Nulos\n",
    "Antes de tudo, é fundamental lidar com valores ausentes no conjunto de dados. Aqui, listei as colunas com valores nulos e analisei uma a uma para decidir como preencher esses valores. Além das colunas que realmente possuem 'null', também inclui as colunas 'sexo' e 'estado_onde_nasceu', que também tem valores faltando, como ressaltado no Dicionário de Dados."
   ]
  },
  {
   "cell_type": "code",
   "execution_count": 8,
   "metadata": {},
   "outputs": [
    {
     "data": {
      "text/plain": [
       "tipo_residencia                 661\n",
       "meses_na_residencia            1812\n",
       "profissao                      3859\n",
       "ocupacao                       3668\n",
       "profissao_companheiro         14401\n",
       "grau_instrucao_companheiro    16070\n",
       "inadimplente                   5000\n",
       "dtype: int64"
      ]
     },
     "execution_count": 8,
     "metadata": {},
     "output_type": "execute_result"
    }
   ],
   "source": [
    "columns_sum_nulls = credito_df.isnull().sum()\n",
    "columns_with_nulls = columns_sum_nulls[columns_sum_nulls > 0]\n",
    "columns_with_nulls"
   ]
  },
  {
   "cell_type": "code",
   "execution_count": 9,
   "metadata": {},
   "outputs": [],
   "source": [
    "# Função para ajudar na vizualização das informações de cada coluna\n",
    "def analysis(data, column, categorical = True):\n",
    "    print(f'Number of Unique Values: {data[column].nunique()}')\n",
    "    print(f'\\nUnique Values: {data[column].unique()}')\n",
    "    print(f'\\nNumber of Null Values: {data[column].isnull().sum()}')\n",
    "    #print(f'\\nCount per Value: \\n{data[column].value_counts()}')\n",
    "    \n",
    "    if categorical == True:\n",
    "        sns.countplot(data = data, x = column, hue = 'inadimplente')\n",
    "    else:\n",
    "        sns.displot(data[column], kde = True)"
   ]
  },
  {
   "cell_type": "markdown",
   "metadata": {},
   "source": [
    "#### 2.1.1 Tipo de Residência\n",
    "Preenchi os nulos com o valor mais frequente (moda)."
   ]
  },
  {
   "cell_type": "code",
   "execution_count": 10,
   "metadata": {},
   "outputs": [
    {
     "name": "stdout",
     "output_type": "stream",
     "text": [
      "Number of Unique Values: 6\n",
      "\n",
      "Unique Values: [ 1.  5.  0. nan  2.  3.  4.]\n",
      "\n",
      "Number of Null Values: 661\n"
     ]
    },
    {
     "data": {
      "image/png": "[encoded data removed]",
      "text/plain": [
       "<Figure size 640x480 with 1 Axes>"
      ]
     },
     "metadata": {},
     "output_type": "display_data"
    }
   ],
   "source": [
    "analysis(credito_df, 'tipo_residencia')"
   ]
  },
  {
   "cell_type": "code",
   "execution_count": 11,
   "metadata": {},
   "outputs": [],
   "source": [
    "credito_df['tipo_residencia'] = credito_df['tipo_residencia'].fillna(1)"
   ]
  },
  {
   "cell_type": "code",
   "execution_count": 12,
   "metadata": {},
   "outputs": [
    {
     "data": {
      "text/plain": [
       "0"
      ]
     },
     "execution_count": 12,
     "metadata": {},
     "output_type": "execute_result"
    }
   ],
   "source": [
    "credito_df['tipo_residencia'].isnull().sum()"
   ]
  },
  {
   "cell_type": "markdown",
   "metadata": {},
   "source": [
    "#### 2.1.2 Meses na Residência\n",
    "Percebi que existe uma relação forte entre a quantidade de meses na residência e o tipo de residência, então atribuí para cada registro com nulo a média de meses do seu tipo de residência."
   ]
  },
  {
   "cell_type": "code",
   "execution_count": 13,
   "metadata": {},
   "outputs": [
    {
     "name": "stdout",
     "output_type": "stream",
     "text": [
      "Number of Unique Values: 80\n",
      "\n",
      "Unique Values: [ 12.   5.   1.   2.   0.   3.  15.  10.   4.  14.  16.   7.   8.  nan\n",
      "  32.  20.  23.  30.  21.   6.  13.  27.  25.  19.  11.   9.  18.  41.\n",
      "  40.  26.  38.  22.  24.  29.  17.  34.  37.  51.  49.  54.  35.  36.\n",
      "  48.  50.  57.  28.  46.  58.  43.  45.  55.  31.  44.  39.  42.  33.\n",
      "  53.  65.  78.  64.  60.  47.  80.  89.  72.  52.  68.  84.  61. 200.\n",
      "  96. 100. 228.  71.  67.  56.  81.  59.  63.  62.  70.]\n",
      "\n",
      "Number of Null Values: 1812\n"
     ]
    },
    {
     "data": {
      "image/png": "[encoded data removed]",
      "text/plain": [
       "<Figure size 500x500 with 1 Axes>"
      ]
     },
     "metadata": {},
     "output_type": "display_data"
    }
   ],
   "source": [
    "analysis(credito_df, 'meses_na_residencia', False)"
   ]
  },
  {
   "cell_type": "code",
   "execution_count": 14,
   "metadata": {},
   "outputs": [
    {
     "data": {
      "image/png": "[encoded data removed]",
      "text/plain": [
       "<Figure size 640x480 with 1 Axes>"
      ]
     },
     "metadata": {},
     "output_type": "display_data"
    }
   ],
   "source": [
    "sns.barplot(x=\"tipo_residencia\", y=\"meses_na_residencia\", data=credito_df)\n",
    "plt.show()"
   ]
  },
  {
   "cell_type": "code",
   "execution_count": 15,
   "metadata": {},
   "outputs": [
    {
     "data": {
      "text/plain": [
       "tipo_residencia\n",
       "0.0     4.323980\n",
       "1.0    10.412271\n",
       "2.0     2.745591\n",
       "3.0     2.709091\n",
       "4.0     7.578947\n",
       "5.0     7.871560\n",
       "Name: meses_na_residencia, dtype: float64"
      ]
     },
     "execution_count": 15,
     "metadata": {},
     "output_type": "execute_result"
    }
   ],
   "source": [
    "# Medias de cada tipo de residencia\n",
    "avg_months_res = credito_df.groupby('tipo_residencia')['meses_na_residencia'].mean()\n",
    "avg_months_res"
   ]
  },
  {
   "cell_type": "code",
   "execution_count": 16,
   "metadata": {},
   "outputs": [],
   "source": [
    "# Preenche os nulos com a média do tipo de residência associado\n",
    "credito_df['meses_na_residencia'] = credito_df['meses_na_residencia'].fillna(credito_df['tipo_residencia'].map(avg_months_res))"
   ]
  },
  {
   "cell_type": "code",
   "execution_count": 17,
   "metadata": {},
   "outputs": [
    {
     "data": {
      "text/plain": [
       "0"
      ]
     },
     "execution_count": 17,
     "metadata": {},
     "output_type": "execute_result"
    }
   ],
   "source": [
    "credito_df['meses_na_residencia'].isnull().sum()"
   ]
  },
  {
   "cell_type": "markdown",
   "metadata": {},
   "source": [
    "#### 2.1.3 Profissão e Ocupação\n",
    "Essas colunas tem significados bem parecidos, em que provavelmente 'profissão' ofereça subgrupos para 'ocupação'. Além disso, foi observado que ambas possuem uma quantidade grande de nulos; na maior parte das vezes ambas estão nulas no mesmo registro.\n",
    "\n",
    "Como as duas colunas são semelhantes, decidi por remover 'profissao' por ser menos geralizada, além de não se mostrar tão relevante assim para determinação do campo alvo 'inadimplente'. Quanto aos nulos de 'ocupação', preenchi com a moda."
   ]
  },
  {
   "cell_type": "code",
   "execution_count": 18,
   "metadata": {},
   "outputs": [
    {
     "name": "stdout",
     "output_type": "stream",
     "text": [
      "Number of Unique Values: 19\n",
      "\n",
      "Unique Values: [ 9.  2. nan 10.  7. 11.  0. 12.  8. 17. 16.  6. 13. 15. 14.  4.  3.  5.\n",
      "  1. 18.]\n",
      "\n",
      "Number of Null Values: 3859\n"
     ]
    },
    {
     "data": {
      "image/png": "[encoded data removed]",
      "text/plain": [
       "<Figure size 640x480 with 1 Axes>"
      ]
     },
     "metadata": {},
     "output_type": "display_data"
    }
   ],
   "source": [
    "analysis(credito_df, 'profissao')"
   ]
  },
  {
   "cell_type": "code",
   "execution_count": 19,
   "metadata": {},
   "outputs": [
    {
     "name": "stdout",
     "output_type": "stream",
     "text": [
      "Number of Unique Values: 6\n",
      "\n",
      "Unique Values: [ 1.  5. nan  2.  4.  0.  3.]\n",
      "\n",
      "Number of Null Values: 3668\n"
     ]
    },
    {
     "data": {
      "image/png": "[encoded data removed]",
      "text/plain": [
       "<Figure size 640x480 with 1 Axes>"
      ]
     },
     "metadata": {},
     "output_type": "display_data"
    }
   ],
   "source": [
    "analysis(credito_df, 'ocupacao')"
   ]
  },
  {
   "cell_type": "code",
   "execution_count": 20,
   "metadata": {},
   "outputs": [
    {
     "data": {
      "text/plain": [
       "id_solicitante                         0\n",
       "produto_solicitado                     0\n",
       "dia_vencimento                         0\n",
       "forma_envio_solicitacao                0\n",
       "tipo_endereco                          0\n",
       "sexo                                   0\n",
       "idade                                  0\n",
       "estado_civil                           0\n",
       "qtde_dependentes                       0\n",
       "grau_instrucao                         0\n",
       "nacionalidade                          0\n",
       "estado_onde_nasceu                     0\n",
       "estado_onde_reside                     0\n",
       "possui_telefone_residencial            0\n",
       "codigo_area_telefone_residencial       0\n",
       "tipo_residencia                        0\n",
       "meses_na_residencia                    0\n",
       "possui_telefone_celular                0\n",
       "possui_email                           0\n",
       "renda_mensal_regular                   0\n",
       "renda_extra                            0\n",
       "possui_cartao_visa                     0\n",
       "possui_cartao_mastercard               0\n",
       "possui_cartao_diners                   0\n",
       "possui_cartao_amex                     0\n",
       "possui_outros_cartoes                  0\n",
       "qtde_contas_bancarias                  0\n",
       "qtde_contas_bancarias_especiais        0\n",
       "valor_patrimonio_pessoal               0\n",
       "possui_carro                           0\n",
       "vinculo_formal_com_empresa             0\n",
       "estado_onde_trabalha                   0\n",
       "possui_telefone_trabalho               0\n",
       "codigo_area_telefone_trabalho          0\n",
       "meses_no_trabalho                      0\n",
       "profissao                           2992\n",
       "ocupacao                            3668\n",
       "profissao_companheiro               3595\n",
       "grau_instrucao_companheiro          3586\n",
       "local_onde_reside                      0\n",
       "local_onde_trabalha                    0\n",
       "inadimplente                         690\n",
       "dtype: int64"
      ]
     },
     "execution_count": 20,
     "metadata": {},
     "output_type": "execute_result"
    }
   ],
   "source": [
    "# Procurando quantidade de nulos nos outros campos quando 'ocupacao' em si é nulo\n",
    "credito_df[pd.isnull(credito_df['ocupacao'])].isnull().sum()"
   ]
  },
  {
   "cell_type": "code",
   "execution_count": 21,
   "metadata": {},
   "outputs": [],
   "source": [
    "credito_df['ocupacao'] = credito_df['ocupacao'].fillna(2)"
   ]
  },
  {
   "cell_type": "code",
   "execution_count": 22,
   "metadata": {},
   "outputs": [],
   "source": [
    "credito_df = credito_df.drop(columns='profissao')"
   ]
  },
  {
   "cell_type": "markdown",
   "metadata": {},
   "source": [
    "#### 2.1.4 Profissão e Grau de Instrução do Companheiro\n",
    "Esses dois campos possuem uma quantidade enorme de nulos, mais da metade do conjunto de dados. Então, optei por não usar esses campos para o treinamento do modelo e os removi do conjunto de dados."
   ]
  },
  {
   "cell_type": "code",
   "execution_count": 23,
   "metadata": {},
   "outputs": [],
   "source": [
    "credito_df = credito_df.drop(columns=['profissao_companheiro', 'grau_instrucao_companheiro'])"
   ]
  },
  {
   "cell_type": "code",
   "execution_count": 24,
   "metadata": {},
   "outputs": [
    {
     "data": {
      "text/plain": [
       "Index(['id_solicitante', 'produto_solicitado', 'dia_vencimento',\n",
       "       'forma_envio_solicitacao', 'tipo_endereco', 'sexo', 'idade',\n",
       "       'estado_civil', 'qtde_dependentes', 'grau_instrucao', 'nacionalidade',\n",
       "       'estado_onde_nasceu', 'estado_onde_reside',\n",
       "       'possui_telefone_residencial', 'codigo_area_telefone_residencial',\n",
       "       'tipo_residencia', 'meses_na_residencia', 'possui_telefone_celular',\n",
       "       'possui_email', 'renda_mensal_regular', 'renda_extra',\n",
       "       'possui_cartao_visa', 'possui_cartao_mastercard',\n",
       "       'possui_cartao_diners', 'possui_cartao_amex', 'possui_outros_cartoes',\n",
       "       'qtde_contas_bancarias', 'qtde_contas_bancarias_especiais',\n",
       "       'valor_patrimonio_pessoal', 'possui_carro',\n",
       "       'vinculo_formal_com_empresa', 'estado_onde_trabalha',\n",
       "       'possui_telefone_trabalho', 'codigo_area_telefone_trabalho',\n",
       "       'meses_no_trabalho', 'ocupacao', 'local_onde_reside',\n",
       "       'local_onde_trabalha', 'inadimplente'],\n",
       "      dtype='object')"
      ]
     },
     "execution_count": 24,
     "metadata": {},
     "output_type": "execute_result"
    }
   ],
   "source": [
    "credito_df.columns"
   ]
  },
  {
   "cell_type": "markdown",
   "metadata": {},
   "source": [
    "#### 2.1.5 Sexo e Estado Onde Nasceu/Trabalha\n",
    "Esses campos não possuem 'null' mas possuem registros iguais a um espaço vazio (' '), o que possui o mesmo significado. Aqui meu intuito era preencher todos os registros vazios com 'Não Identificado' (N) no caso do sexo, e 'XX' no caso dos estado de nascimento/trabalho. \n",
    "\n",
    "No entanto, percebi que haviam muitos registros de estado de trabalho vazios (mais da metade) e, considerando que a coluna 'estado_onde_reside' já possui uma forte ligação com o estado de trabalho e não possui registros vazios, decidi remover a coluna. De resto, fiz como planejado."
   ]
  },
  {
   "cell_type": "code",
   "execution_count": 25,
   "metadata": {},
   "outputs": [
    {
     "data": {
      "text/plain": [
       "11"
      ]
     },
     "execution_count": 25,
     "metadata": {},
     "output_type": "execute_result"
    }
   ],
   "source": [
    "# Verificando quantidade de registros vazios\n",
    "credito_df[credito_df['sexo'] == ' ']['id_solicitante'].count()"
   ]
  },
  {
   "cell_type": "code",
   "execution_count": 26,
   "metadata": {},
   "outputs": [
    {
     "data": {
      "text/plain": [
       "1032"
      ]
     },
     "execution_count": 26,
     "metadata": {},
     "output_type": "execute_result"
    }
   ],
   "source": [
    "credito_df[credito_df['estado_onde_nasceu'] == ' ']['id_solicitante'].count()"
   ]
  },
  {
   "cell_type": "code",
   "execution_count": 27,
   "metadata": {},
   "outputs": [
    {
     "data": {
      "text/plain": [
       "17006"
      ]
     },
     "execution_count": 27,
     "metadata": {},
     "output_type": "execute_result"
    }
   ],
   "source": [
    "credito_df[credito_df['estado_onde_trabalha'] == ' ']['id_solicitante'].count()"
   ]
  },
  {
   "cell_type": "code",
   "execution_count": 28,
   "metadata": {},
   "outputs": [
    {
     "data": {
      "text/plain": [
       "0"
      ]
     },
     "execution_count": 28,
     "metadata": {},
     "output_type": "execute_result"
    }
   ],
   "source": [
    "credito_df[credito_df['estado_onde_reside'] == ' ']['id_solicitante'].count()"
   ]
  },
  {
   "cell_type": "code",
   "execution_count": 29,
   "metadata": {},
   "outputs": [],
   "source": [
    "credito_df = credito_df.drop(columns=['estado_onde_trabalha'])"
   ]
  },
  {
   "cell_type": "code",
   "execution_count": 30,
   "metadata": {},
   "outputs": [],
   "source": [
    "# Substituindo espaços vazios\n",
    "credito_df.loc[credito_df['sexo'] == ' ', 'sexo'] = 'N'\n",
    "credito_df.loc[credito_df['estado_onde_nasceu'] == ' ', 'estado_onde_nasceu'] = 'XX'"
   ]
  },
  {
   "cell_type": "markdown",
   "metadata": {},
   "source": [
    "### 2.2. Modificação de Features\n",
    "Aqui fiz uma breve análise de como 'otimizar' algumas features para melhores previsões. Na realidade, decidi modificar apenas as features que se referem a siglas dos estados brasileiros (estado onde nasceu e estado onde reside). Essas features possuem categorias demais, que podem ser dividas em regiões e possivelmente seriam mais relevantes nesse formato, além de otimizar o treinamento."
   ]
  },
  {
   "cell_type": "code",
   "execution_count": 31,
   "metadata": {},
   "outputs": [],
   "source": [
    "state_to_region = {\n",
    "    'AC': 'Norte',\n",
    "    'AL': 'Nordeste',\n",
    "    'AP': 'Norte',\n",
    "    'AM': 'Norte',\n",
    "    'BA': 'Nordeste',\n",
    "    'CE': 'Nordeste',\n",
    "    'DF': 'Centro-Oeste',\n",
    "    'ES': 'Sudeste',\n",
    "    'GO': 'Centro-Oeste',\n",
    "    'MA': 'Nordeste',\n",
    "    'MT': 'Centro-Oeste',\n",
    "    'MS': 'Centro-Oeste',\n",
    "    'MG': 'Sudeste',\n",
    "    'PA': 'Norte',\n",
    "    'PB': 'Nordeste',\n",
    "    'PR': 'Sul',\n",
    "    'PE': 'Nordeste',\n",
    "    'PI': 'Nordeste',\n",
    "    'RJ': 'Sudeste',\n",
    "    'RN': 'Nordeste',\n",
    "    'RS': 'Sul',\n",
    "    'RO': 'Norte',\n",
    "    'RR': 'Norte',\n",
    "    'SC': 'Sul',\n",
    "    'SP': 'Sudeste',\n",
    "    'SE': 'Nordeste',\n",
    "    'TO': 'Norte',\n",
    "    'XX': 'Unknown'\n",
    "}"
   ]
  },
  {
   "cell_type": "code",
   "execution_count": 32,
   "metadata": {},
   "outputs": [],
   "source": [
    "credito_df['estado_onde_nasceu'] = credito_df['estado_onde_nasceu'].map(state_to_region)\n",
    "credito_df['estado_onde_reside'] = credito_df['estado_onde_reside'].map(state_to_region)"
   ]
  },
  {
   "cell_type": "code",
   "execution_count": 33,
   "metadata": {},
   "outputs": [
    {
     "data": {
      "text/plain": [
       "array(['Nordeste', 'Sul', 'Sudeste', 'Centro-Oeste', 'Norte', 'Unknown'],\n",
       "      dtype=object)"
      ]
     },
     "execution_count": 33,
     "metadata": {},
     "output_type": "execute_result"
    }
   ],
   "source": [
    "credito_df['estado_onde_nasceu'].unique()"
   ]
  },
  {
   "cell_type": "markdown",
   "metadata": {},
   "source": [
    "### 2.3. Codificação de Variáveis Categóricas\n",
    "Aqui convertemos variáveis categóricas em representações binárias, criando colunas one-hot, para que possam ser usadas nos algoritmos de machine learning.\n",
    "\n",
    "Foi observado que 'local_onde_reside' e 'local_onde_trabalha' possuem muitas categorias e resultariam em muitas colunas extras que provavelmente não seriam tão relevantes assim. Como não temos informações sobre esses locais para dividirmos em áreas, decidi dropar essas colunas."
   ]
  },
  {
   "cell_type": "code",
   "execution_count": 34,
   "metadata": {},
   "outputs": [],
   "source": [
    "credito_df = credito_df.drop(columns=['local_onde_reside', 'local_onde_trabalha'])"
   ]
  },
  {
   "cell_type": "code",
   "execution_count": 35,
   "metadata": {},
   "outputs": [
    {
     "data": {
      "text/plain": [
       "Index(['id_solicitante', 'produto_solicitado', 'dia_vencimento',\n",
       "       'forma_envio_solicitacao', 'tipo_endereco', 'sexo', 'idade',\n",
       "       'estado_civil', 'qtde_dependentes', 'grau_instrucao', 'nacionalidade',\n",
       "       'estado_onde_nasceu', 'estado_onde_reside',\n",
       "       'possui_telefone_residencial', 'codigo_area_telefone_residencial',\n",
       "       'tipo_residencia', 'meses_na_residencia', 'possui_telefone_celular',\n",
       "       'possui_email', 'renda_mensal_regular', 'renda_extra',\n",
       "       'possui_cartao_visa', 'possui_cartao_mastercard',\n",
       "       'possui_cartao_diners', 'possui_cartao_amex', 'possui_outros_cartoes',\n",
       "       'qtde_contas_bancarias', 'qtde_contas_bancarias_especiais',\n",
       "       'valor_patrimonio_pessoal', 'possui_carro',\n",
       "       'vinculo_formal_com_empresa', 'possui_telefone_trabalho',\n",
       "       'codigo_area_telefone_trabalho', 'meses_no_trabalho', 'ocupacao',\n",
       "       'inadimplente'],\n",
       "      dtype='object')"
      ]
     },
     "execution_count": 35,
     "metadata": {},
     "output_type": "execute_result"
    }
   ],
   "source": [
    "credito_df.columns"
   ]
  },
  {
   "cell_type": "code",
   "execution_count": 36,
   "metadata": {},
   "outputs": [],
   "source": [
    "categorical_variables = ['produto_solicitado', 'dia_vencimento', 'forma_envio_solicitacao', 'tipo_endereco', 'sexo', 'estado_civil',\n",
    "                        'grau_instrucao', 'nacionalidade', 'estado_onde_nasceu', 'estado_onde_reside', \n",
    "                        'possui_telefone_residencial', 'codigo_area_telefone_residencial', 'tipo_residencia', 'possui_telefone_celular',\n",
    "                        'possui_email', 'possui_cartao_visa', 'possui_cartao_mastercard', 'possui_cartao_diners', 'possui_cartao_amex', \n",
    "                        'possui_outros_cartoes', 'possui_carro', 'vinculo_formal_com_empresa', 'possui_telefone_trabalho', \n",
    "                        'codigo_area_telefone_trabalho', 'ocupacao']"
   ]
  },
  {
   "cell_type": "code",
   "execution_count": 37,
   "metadata": {},
   "outputs": [],
   "source": [
    "# drop_first tira a primeira coluna, de forma que se as outras são zero, ela é a 'selecionada'\n",
    "for variable in categorical_variables:\n",
    "    credito_df = pd.get_dummies(credito_df, columns=[variable], prefix=[variable], drop_first = True)"
   ]
  },
  {
   "cell_type": "markdown",
   "metadata": {},
   "source": [
    "### 2.4. Normalização/Padronização\n",
    "Normalizando as colunas numéricas para garantir que as features tenham escalas comparáveis."
   ]
  },
  {
   "cell_type": "code",
   "execution_count": 38,
   "metadata": {},
   "outputs": [],
   "source": [
    "normalize_data = ['idade', 'qtde_dependentes', 'meses_na_residencia', 'renda_mensal_regular', 'renda_extra', \n",
    "                'qtde_contas_bancarias', 'qtde_contas_bancarias_especiais', 'valor_patrimonio_pessoal', \n",
    "                'meses_no_trabalho']\n",
    "scaler = MinMaxScaler() \n",
    "\n",
    "# Aplicar a normalização aos dados\n",
    "credito_df[normalize_data] = scaler.fit_transform(credito_df[normalize_data])"
   ]
  },
  {
   "cell_type": "markdown",
   "metadata": {},
   "source": [
    "### 2.4. Dividir os dados de novo\n",
    "Redividindo os dados em conjunto de treinamento e testes. Vou usar todas as colunas que restaram para o treinamento, menos obviamente o id dos solicitantes."
   ]
  },
  {
   "cell_type": "code",
   "execution_count": 39,
   "metadata": {},
   "outputs": [],
   "source": [
    "credito_df = credito_df.drop(columns='id_solicitante')"
   ]
  },
  {
   "cell_type": "code",
   "execution_count": 40,
   "metadata": {},
   "outputs": [],
   "source": [
    "train = credito_df[:split_index].copy()\n",
    "test = credito_df[split_index:].copy()"
   ]
  },
  {
   "cell_type": "code",
   "execution_count": 41,
   "metadata": {},
   "outputs": [],
   "source": [
    "train['inadimplente'] = train['inadimplente'].astype(int)"
   ]
  },
  {
   "cell_type": "code",
   "execution_count": 42,
   "metadata": {},
   "outputs": [],
   "source": [
    "X_train = train.drop('inadimplente', axis = 1)\n",
    "y_train = train['inadimplente']\n",
    "X_test = test.drop('inadimplente', axis = 1)"
   ]
  },
  {
   "cell_type": "markdown",
   "metadata": {},
   "source": [
    "## 3. Modelo"
   ]
  },
  {
   "cell_type": "markdown",
   "metadata": {},
   "source": [
    "### 3.1. Selecionar melhor modelo\n",
    "Aqui fiz um loop ao longo dos modelos que escolhi para testar, e calculei a acurácia média de cada um através de validação cruzada."
   ]
  },
  {
   "cell_type": "code",
   "execution_count": 45,
   "metadata": {},
   "outputs": [],
   "source": [
    "# Lista de modelos a serem testados\n",
    "models = {\n",
    "    'Random Forest': RandomForestClassifier(),\n",
    "    'Logistic Regression': LogisticRegression(max_iter=1000),\n",
    "    'Decision Tree': DecisionTreeClassifier(),\n",
    "    'K-Nearest Neighbors': KNeighborsClassifier(),\n",
    "    'Naive Bayes': GaussianNB(),\n",
    "    'Gradient Boosting': GradientBoostingClassifier(),\n",
    "    'SGD Classifier': SGDClassifier(),\n",
    "}"
   ]
  },
  {
   "cell_type": "code",
   "execution_count": 46,
   "metadata": {},
   "outputs": [
    {
     "name": "stdout",
     "output_type": "stream",
     "text": [
      "Random Forest - Mean Accuracy: 0.5742\n",
      "Logistic Regression - Mean Accuracy: 0.5895\n",
      "Support Vector Machine - Mean Accuracy: 0.5839\n",
      "Decision Tree - Mean Accuracy: 0.5318\n",
      "K-Nearest Neighbors - Mean Accuracy: 0.5401\n",
      "Naive Bayes - Mean Accuracy: 0.5080\n",
      "Gradient Boosting - Mean Accuracy: 0.5944\n",
      "SGD Classifier - Mean Accuracy: 0.5710\n"
     ]
    }
   ],
   "source": [
    "# Loop através dos modelos e imprime o desempenho usando validação cruzada\n",
    "for model_name, model in models.items():\n",
    "    scores = cross_val_score(model, X_train, y_train, cv=5, scoring='accuracy')\n",
    "    print(f\"{model_name} - Mean Accuracy: {np.mean(scores):.4f}\")"
   ]
  },
  {
   "cell_type": "markdown",
   "metadata": {},
   "source": [
    "### 3.2. Ajuste de hiperparâmetros\n",
    "Tendo selecionado o melhor modelo na etapa anterior, otimizei os hiperparâmetros para reduzir o erro de validação cruzada. Para isso, usei pesquisa em grade (Grid Search)."
   ]
  },
  {
   "cell_type": "code",
   "execution_count": 49,
   "metadata": {},
   "outputs": [],
   "source": [
    "# Hiperparâmetros para ajustar\n",
    "param_grid = {\n",
    "    'n_estimators': [32, 64, 100, 200],\n",
    "    'learning_rate': [0.01, 0.1, 0.5],\n",
    "    'max_depth': [3, 4, 5, 6],\n",
    "    'min_samples_split': [2, 5],\n",
    "    'min_samples_leaf': [1, 2, 4],\n",
    "    'subsample': [0.8, 0.9, 1.0]\n",
    "}"
   ]
  },
  {
   "cell_type": "code",
   "execution_count": 90,
   "metadata": {},
   "outputs": [
    {
     "name": "stdout",
     "output_type": "stream",
     "text": [
      "Fitting 5 folds for each of 48 candidates, totalling 240 fits\n",
      "[CV 1/5; 1/48] START learning_rate=0.1, max_depth=3, min_samples_leaf=1, min_samples_split=2, n_estimators=200, subsample=0.8\n",
      "[CV 1/5; 1/48] END learning_rate=0.1, max_depth=3, min_samples_leaf=1, min_samples_split=2, n_estimators=200, subsample=0.8;, score=0.593 total time=  15.2s\n",
      "[CV 2/5; 1/48] START learning_rate=0.1, max_depth=3, min_samples_leaf=1, min_samples_split=2, n_estimators=200, subsample=0.8\n",
      "[CV 2/5; 1/48] END learning_rate=0.1, max_depth=3, min_samples_leaf=1, min_samples_split=2, n_estimators=200, subsample=0.8;, score=0.598 total time=  20.9s\n",
      "[CV 3/5; 1/48] START learning_rate=0.1, max_depth=3, min_samples_leaf=1, min_samples_split=2, n_estimators=200, subsample=0.8\n",
      "[CV 3/5; 1/48] END learning_rate=0.1, max_depth=3, min_samples_leaf=1, min_samples_split=2, n_estimators=200, subsample=0.8;, score=0.596 total time=  20.5s\n",
      "[CV 4/5; 1/48] START learning_rate=0.1, max_depth=3, min_samples_leaf=1, min_samples_split=2, n_estimators=200, subsample=0.8\n",
      "[CV 4/5; 1/48] END learning_rate=0.1, max_depth=3, min_samples_leaf=1, min_samples_split=2, n_estimators=200, subsample=0.8;, score=0.594 total time=  19.6s\n",
      "[CV 5/5; 1/48] START learning_rate=0.1, max_depth=3, min_samples_leaf=1, min_samples_split=2, n_estimators=200, subsample=0.8\n",
      "[CV 5/5; 1/48] END learning_rate=0.1, max_depth=3, min_samples_leaf=1, min_samples_split=2, n_estimators=200, subsample=0.8;, score=0.602 total time=  22.0s\n",
      "[CV 1/5; 2/48] START learning_rate=0.1, max_depth=3, min_samples_leaf=1, min_samples_split=2, n_estimators=200, subsample=0.9\n",
      "[CV 1/5; 2/48] END learning_rate=0.1, max_depth=3, min_samples_leaf=1, min_samples_split=2, n_estimators=200, subsample=0.9;, score=0.589 total time=  24.6s\n",
      "[CV 2/5; 2/48] START learning_rate=0.1, max_depth=3, min_samples_leaf=1, min_samples_split=2, n_estimators=200, subsample=0.9\n",
      "[CV 2/5; 2/48] END learning_rate=0.1, max_depth=3, min_samples_leaf=1, min_samples_split=2, n_estimators=200, subsample=0.9;, score=0.595 total time=  23.9s\n",
      "[CV 3/5; 2/48] START learning_rate=0.1, max_depth=3, min_samples_leaf=1, min_samples_split=2, n_estimators=200, subsample=0.9\n",
      "[CV 3/5; 2/48] END learning_rate=0.1, max_depth=3, min_samples_leaf=1, min_samples_split=2, n_estimators=200, subsample=0.9;, score=0.603 total time=  22.5s\n",
      "[CV 4/5; 2/48] START learning_rate=0.1, max_depth=3, min_samples_leaf=1, min_samples_split=2, n_estimators=200, subsample=0.9\n",
      "[CV 4/5; 2/48] END learning_rate=0.1, max_depth=3, min_samples_leaf=1, min_samples_split=2, n_estimators=200, subsample=0.9;, score=0.591 total time=  27.6s\n",
      "[CV 5/5; 2/48] START learning_rate=0.1, max_depth=3, min_samples_leaf=1, min_samples_split=2, n_estimators=200, subsample=0.9\n",
      "[CV 5/5; 2/48] END learning_rate=0.1, max_depth=3, min_samples_leaf=1, min_samples_split=2, n_estimators=200, subsample=0.9;, score=0.595 total time=  25.5s\n",
      "[CV 1/5; 3/48] START learning_rate=0.1, max_depth=3, min_samples_leaf=1, min_samples_split=2, n_estimators=200, subsample=1.0\n",
      "[CV 1/5; 3/48] END learning_rate=0.1, max_depth=3, min_samples_leaf=1, min_samples_split=2, n_estimators=200, subsample=1.0;, score=0.594 total time=  26.7s\n",
      "[CV 2/5; 3/48] START learning_rate=0.1, max_depth=3, min_samples_leaf=1, min_samples_split=2, n_estimators=200, subsample=1.0\n",
      "[CV 2/5; 3/48] END learning_rate=0.1, max_depth=3, min_samples_leaf=1, min_samples_split=2, n_estimators=200, subsample=1.0;, score=0.596 total time=  30.3s\n",
      "[CV 3/5; 3/48] START learning_rate=0.1, max_depth=3, min_samples_leaf=1, min_samples_split=2, n_estimators=200, subsample=1.0\n",
      "[CV 3/5; 3/48] END learning_rate=0.1, max_depth=3, min_samples_leaf=1, min_samples_split=2, n_estimators=200, subsample=1.0;, score=0.601 total time=  28.7s\n",
      "[CV 4/5; 3/48] START learning_rate=0.1, max_depth=3, min_samples_leaf=1, min_samples_split=2, n_estimators=200, subsample=1.0\n",
      "[CV 4/5; 3/48] END learning_rate=0.1, max_depth=3, min_samples_leaf=1, min_samples_split=2, n_estimators=200, subsample=1.0;, score=0.591 total time=  28.8s\n",
      "[CV 5/5; 3/48] START learning_rate=0.1, max_depth=3, min_samples_leaf=1, min_samples_split=2, n_estimators=200, subsample=1.0\n",
      "[CV 5/5; 3/48] END learning_rate=0.1, max_depth=3, min_samples_leaf=1, min_samples_split=2, n_estimators=200, subsample=1.0;, score=0.598 total time=  29.5s\n",
      "[CV 1/5; 4/48] START learning_rate=0.1, max_depth=3, min_samples_leaf=1, min_samples_split=5, n_estimators=200, subsample=0.8\n",
      "[CV 1/5; 4/48] END learning_rate=0.1, max_depth=3, min_samples_leaf=1, min_samples_split=5, n_estimators=200, subsample=0.8;, score=0.588 total time=  23.7s\n",
      "[CV 2/5; 4/48] START learning_rate=0.1, max_depth=3, min_samples_leaf=1, min_samples_split=5, n_estimators=200, subsample=0.8\n",
      "[CV 2/5; 4/48] END learning_rate=0.1, max_depth=3, min_samples_leaf=1, min_samples_split=5, n_estimators=200, subsample=0.8;, score=0.594 total time=  20.3s\n",
      "[CV 3/5; 4/48] START learning_rate=0.1, max_depth=3, min_samples_leaf=1, min_samples_split=5, n_estimators=200, subsample=0.8\n",
      "[CV 3/5; 4/48] END learning_rate=0.1, max_depth=3, min_samples_leaf=1, min_samples_split=5, n_estimators=200, subsample=0.8;, score=0.609 total time=  24.3s\n",
      "[CV 4/5; 4/48] START learning_rate=0.1, max_depth=3, min_samples_leaf=1, min_samples_split=5, n_estimators=200, subsample=0.8\n",
      "[CV 4/5; 4/48] END learning_rate=0.1, max_depth=3, min_samples_leaf=1, min_samples_split=5, n_estimators=200, subsample=0.8;, score=0.590 total time=  24.5s\n",
      "[CV 5/5; 4/48] START learning_rate=0.1, max_depth=3, min_samples_leaf=1, min_samples_split=5, n_estimators=200, subsample=0.8\n",
      "[CV 5/5; 4/48] END learning_rate=0.1, max_depth=3, min_samples_leaf=1, min_samples_split=5, n_estimators=200, subsample=0.8;, score=0.600 total time=  25.7s\n",
      "[CV 1/5; 5/48] START learning_rate=0.1, max_depth=3, min_samples_leaf=1, min_samples_split=5, n_estimators=200, subsample=0.9\n",
      "[CV 1/5; 5/48] END learning_rate=0.1, max_depth=3, min_samples_leaf=1, min_samples_split=5, n_estimators=200, subsample=0.9;, score=0.591 total time=  25.7s\n",
      "[CV 2/5; 5/48] START learning_rate=0.1, max_depth=3, min_samples_leaf=1, min_samples_split=5, n_estimators=200, subsample=0.9\n",
      "[CV 2/5; 5/48] END learning_rate=0.1, max_depth=3, min_samples_leaf=1, min_samples_split=5, n_estimators=200, subsample=0.9;, score=0.597 total time=  27.0s\n",
      "[CV 3/5; 5/48] START learning_rate=0.1, max_depth=3, min_samples_leaf=1, min_samples_split=5, n_estimators=200, subsample=0.9\n",
      "[CV 3/5; 5/48] END learning_rate=0.1, max_depth=3, min_samples_leaf=1, min_samples_split=5, n_estimators=200, subsample=0.9;, score=0.594 total time=  28.3s\n",
      "[CV 4/5; 5/48] START learning_rate=0.1, max_depth=3, min_samples_leaf=1, min_samples_split=5, n_estimators=200, subsample=0.9\n",
      "[CV 4/5; 5/48] END learning_rate=0.1, max_depth=3, min_samples_leaf=1, min_samples_split=5, n_estimators=200, subsample=0.9;, score=0.592 total time=  26.4s\n",
      "[CV 5/5; 5/48] START learning_rate=0.1, max_depth=3, min_samples_leaf=1, min_samples_split=5, n_estimators=200, subsample=0.9\n",
      "[CV 5/5; 5/48] END learning_rate=0.1, max_depth=3, min_samples_leaf=1, min_samples_split=5, n_estimators=200, subsample=0.9;, score=0.603 total time=  27.5s\n",
      "[CV 1/5; 6/48] START learning_rate=0.1, max_depth=3, min_samples_leaf=1, min_samples_split=5, n_estimators=200, subsample=1.0\n",
      "[CV 1/5; 6/48] END learning_rate=0.1, max_depth=3, min_samples_leaf=1, min_samples_split=5, n_estimators=200, subsample=1.0;, score=0.592 total time=  28.8s\n",
      "[CV 2/5; 6/48] START learning_rate=0.1, max_depth=3, min_samples_leaf=1, min_samples_split=5, n_estimators=200, subsample=1.0\n",
      "[CV 2/5; 6/48] END learning_rate=0.1, max_depth=3, min_samples_leaf=1, min_samples_split=5, n_estimators=200, subsample=1.0;, score=0.596 total time=  28.9s\n",
      "[CV 3/5; 6/48] START learning_rate=0.1, max_depth=3, min_samples_leaf=1, min_samples_split=5, n_estimators=200, subsample=1.0\n",
      "[CV 3/5; 6/48] END learning_rate=0.1, max_depth=3, min_samples_leaf=1, min_samples_split=5, n_estimators=200, subsample=1.0;, score=0.599 total time=  25.8s\n",
      "[CV 4/5; 6/48] START learning_rate=0.1, max_depth=3, min_samples_leaf=1, min_samples_split=5, n_estimators=200, subsample=1.0\n",
      "[CV 4/5; 6/48] END learning_rate=0.1, max_depth=3, min_samples_leaf=1, min_samples_split=5, n_estimators=200, subsample=1.0;, score=0.588 total time=  26.4s\n",
      "[CV 5/5; 6/48] START learning_rate=0.1, max_depth=3, min_samples_leaf=1, min_samples_split=5, n_estimators=200, subsample=1.0\n",
      "[CV 5/5; 6/48] END learning_rate=0.1, max_depth=3, min_samples_leaf=1, min_samples_split=5, n_estimators=200, subsample=1.0;, score=0.596 total time=  26.3s\n",
      "[CV 1/5; 7/48] START learning_rate=0.1, max_depth=3, min_samples_leaf=1, min_samples_split=10, n_estimators=200, subsample=0.8\n",
      "[CV 1/5; 7/48] END learning_rate=0.1, max_depth=3, min_samples_leaf=1, min_samples_split=10, n_estimators=200, subsample=0.8;, score=0.586 total time=  24.2s\n",
      "[CV 2/5; 7/48] START learning_rate=0.1, max_depth=3, min_samples_leaf=1, min_samples_split=10, n_estimators=200, subsample=0.8\n",
      "[CV 2/5; 7/48] END learning_rate=0.1, max_depth=3, min_samples_leaf=1, min_samples_split=10, n_estimators=200, subsample=0.8;, score=0.601 total time=  22.8s\n",
      "[CV 3/5; 7/48] START learning_rate=0.1, max_depth=3, min_samples_leaf=1, min_samples_split=10, n_estimators=200, subsample=0.8\n",
      "[CV 3/5; 7/48] END learning_rate=0.1, max_depth=3, min_samples_leaf=1, min_samples_split=10, n_estimators=200, subsample=0.8;, score=0.606 total time=  20.5s\n",
      "[CV 4/5; 7/48] START learning_rate=0.1, max_depth=3, min_samples_leaf=1, min_samples_split=10, n_estimators=200, subsample=0.8\n",
      "[CV 4/5; 7/48] END learning_rate=0.1, max_depth=3, min_samples_leaf=1, min_samples_split=10, n_estimators=200, subsample=0.8;, score=0.595 total time=  20.9s\n",
      "[CV 5/5; 7/48] START learning_rate=0.1, max_depth=3, min_samples_leaf=1, min_samples_split=10, n_estimators=200, subsample=0.8\n",
      "[CV 5/5; 7/48] END learning_rate=0.1, max_depth=3, min_samples_leaf=1, min_samples_split=10, n_estimators=200, subsample=0.8;, score=0.600 total time=  23.9s\n",
      "[CV 1/5; 8/48] START learning_rate=0.1, max_depth=3, min_samples_leaf=1, min_samples_split=10, n_estimators=200, subsample=0.9\n",
      "[CV 1/5; 8/48] END learning_rate=0.1, max_depth=3, min_samples_leaf=1, min_samples_split=10, n_estimators=200, subsample=0.9;, score=0.588 total time=  26.0s\n",
      "[CV 2/5; 8/48] START learning_rate=0.1, max_depth=3, min_samples_leaf=1, min_samples_split=10, n_estimators=200, subsample=0.9\n",
      "[CV 2/5; 8/48] END learning_rate=0.1, max_depth=3, min_samples_leaf=1, min_samples_split=10, n_estimators=200, subsample=0.9;, score=0.601 total time=  23.4s\n",
      "[CV 3/5; 8/48] START learning_rate=0.1, max_depth=3, min_samples_leaf=1, min_samples_split=10, n_estimators=200, subsample=0.9\n",
      "[CV 3/5; 8/48] END learning_rate=0.1, max_depth=3, min_samples_leaf=1, min_samples_split=10, n_estimators=200, subsample=0.9;, score=0.600 total time=  26.7s\n",
      "[CV 4/5; 8/48] START learning_rate=0.1, max_depth=3, min_samples_leaf=1, min_samples_split=10, n_estimators=200, subsample=0.9\n",
      "[CV 4/5; 8/48] END learning_rate=0.1, max_depth=3, min_samples_leaf=1, min_samples_split=10, n_estimators=200, subsample=0.9;, score=0.589 total time=  24.0s\n",
      "[CV 5/5; 8/48] START learning_rate=0.1, max_depth=3, min_samples_leaf=1, min_samples_split=10, n_estimators=200, subsample=0.9\n",
      "[CV 5/5; 8/48] END learning_rate=0.1, max_depth=3, min_samples_leaf=1, min_samples_split=10, n_estimators=200, subsample=0.9;, score=0.602 total time=  25.3s\n",
      "[CV 1/5; 9/48] START learning_rate=0.1, max_depth=3, min_samples_leaf=1, min_samples_split=10, n_estimators=200, subsample=1.0\n",
      "[CV 1/5; 9/48] END learning_rate=0.1, max_depth=3, min_samples_leaf=1, min_samples_split=10, n_estimators=200, subsample=1.0;, score=0.594 total time=  26.4s\n",
      "[CV 2/5; 9/48] START learning_rate=0.1, max_depth=3, min_samples_leaf=1, min_samples_split=10, n_estimators=200, subsample=1.0\n",
      "[CV 2/5; 9/48] END learning_rate=0.1, max_depth=3, min_samples_leaf=1, min_samples_split=10, n_estimators=200, subsample=1.0;, score=0.595 total time=  26.8s\n",
      "[CV 3/5; 9/48] START learning_rate=0.1, max_depth=3, min_samples_leaf=1, min_samples_split=10, n_estimators=200, subsample=1.0\n",
      "[CV 3/5; 9/48] END learning_rate=0.1, max_depth=3, min_samples_leaf=1, min_samples_split=10, n_estimators=200, subsample=1.0;, score=0.599 total time=  27.7s\n",
      "[CV 4/5; 9/48] START learning_rate=0.1, max_depth=3, min_samples_leaf=1, min_samples_split=10, n_estimators=200, subsample=1.0\n",
      "[CV 4/5; 9/48] END learning_rate=0.1, max_depth=3, min_samples_leaf=1, min_samples_split=10, n_estimators=200, subsample=1.0;, score=0.590 total time=  27.6s\n",
      "[CV 5/5; 9/48] START learning_rate=0.1, max_depth=3, min_samples_leaf=1, min_samples_split=10, n_estimators=200, subsample=1.0\n",
      "[CV 5/5; 9/48] END learning_rate=0.1, max_depth=3, min_samples_leaf=1, min_samples_split=10, n_estimators=200, subsample=1.0;, score=0.599 total time=  27.0s\n",
      "[CV 1/5; 10/48] START learning_rate=0.1, max_depth=3, min_samples_leaf=1, min_samples_split=20, n_estimators=200, subsample=0.8\n",
      "[CV 1/5; 10/48] END learning_rate=0.1, max_depth=3, min_samples_leaf=1, min_samples_split=20, n_estimators=200, subsample=0.8;, score=0.591 total time=  18.2s\n",
      "[CV 2/5; 10/48] START learning_rate=0.1, max_depth=3, min_samples_leaf=1, min_samples_split=20, n_estimators=200, subsample=0.8\n",
      "[CV 2/5; 10/48] END learning_rate=0.1, max_depth=3, min_samples_leaf=1, min_samples_split=20, n_estimators=200, subsample=0.8;, score=0.600 total time=  20.0s\n",
      "[CV 3/5; 10/48] START learning_rate=0.1, max_depth=3, min_samples_leaf=1, min_samples_split=20, n_estimators=200, subsample=0.8\n",
      "[CV 3/5; 10/48] END learning_rate=0.1, max_depth=3, min_samples_leaf=1, min_samples_split=20, n_estimators=200, subsample=0.8;, score=0.604 total time=  21.9s\n",
      "[CV 4/5; 10/48] START learning_rate=0.1, max_depth=3, min_samples_leaf=1, min_samples_split=20, n_estimators=200, subsample=0.8\n",
      "[CV 4/5; 10/48] END learning_rate=0.1, max_depth=3, min_samples_leaf=1, min_samples_split=20, n_estimators=200, subsample=0.8;, score=0.590 total time=  26.5s\n",
      "[CV 5/5; 10/48] START learning_rate=0.1, max_depth=3, min_samples_leaf=1, min_samples_split=20, n_estimators=200, subsample=0.8\n",
      "[CV 5/5; 10/48] END learning_rate=0.1, max_depth=3, min_samples_leaf=1, min_samples_split=20, n_estimators=200, subsample=0.8;, score=0.592 total time=  22.7s\n",
      "[CV 1/5; 11/48] START learning_rate=0.1, max_depth=3, min_samples_leaf=1, min_samples_split=20, n_estimators=200, subsample=0.9\n",
      "[CV 1/5; 11/48] END learning_rate=0.1, max_depth=3, min_samples_leaf=1, min_samples_split=20, n_estimators=200, subsample=0.9;, score=0.590 total time=  14.9s\n",
      "[CV 2/5; 11/48] START learning_rate=0.1, max_depth=3, min_samples_leaf=1, min_samples_split=20, n_estimators=200, subsample=0.9\n",
      "[CV 2/5; 11/48] END learning_rate=0.1, max_depth=3, min_samples_leaf=1, min_samples_split=20, n_estimators=200, subsample=0.9;, score=0.595 total time=  13.9s\n",
      "[CV 3/5; 11/48] START learning_rate=0.1, max_depth=3, min_samples_leaf=1, min_samples_split=20, n_estimators=200, subsample=0.9\n",
      "[CV 3/5; 11/48] END learning_rate=0.1, max_depth=3, min_samples_leaf=1, min_samples_split=20, n_estimators=200, subsample=0.9;, score=0.602 total time=  13.8s\n",
      "[CV 4/5; 11/48] START learning_rate=0.1, max_depth=3, min_samples_leaf=1, min_samples_split=20, n_estimators=200, subsample=0.9\n",
      "[CV 4/5; 11/48] END learning_rate=0.1, max_depth=3, min_samples_leaf=1, min_samples_split=20, n_estimators=200, subsample=0.9;, score=0.595 total time=  13.7s\n",
      "[CV 5/5; 11/48] START learning_rate=0.1, max_depth=3, min_samples_leaf=1, min_samples_split=20, n_estimators=200, subsample=0.9\n",
      "[CV 5/5; 11/48] END learning_rate=0.1, max_depth=3, min_samples_leaf=1, min_samples_split=20, n_estimators=200, subsample=0.9;, score=0.596 total time=  14.8s\n",
      "[CV 1/5; 12/48] START learning_rate=0.1, max_depth=3, min_samples_leaf=1, min_samples_split=20, n_estimators=200, subsample=1.0\n",
      "[CV 1/5; 12/48] END learning_rate=0.1, max_depth=3, min_samples_leaf=1, min_samples_split=20, n_estimators=200, subsample=1.0;, score=0.590 total time=  15.2s\n",
      "[CV 2/5; 12/48] START learning_rate=0.1, max_depth=3, min_samples_leaf=1, min_samples_split=20, n_estimators=200, subsample=1.0\n",
      "[CV 2/5; 12/48] END learning_rate=0.1, max_depth=3, min_samples_leaf=1, min_samples_split=20, n_estimators=200, subsample=1.0;, score=0.591 total time=  15.4s\n",
      "[CV 3/5; 12/48] START learning_rate=0.1, max_depth=3, min_samples_leaf=1, min_samples_split=20, n_estimators=200, subsample=1.0\n",
      "[CV 3/5; 12/48] END learning_rate=0.1, max_depth=3, min_samples_leaf=1, min_samples_split=20, n_estimators=200, subsample=1.0;, score=0.602 total time=  16.5s\n",
      "[CV 4/5; 12/48] START learning_rate=0.1, max_depth=3, min_samples_leaf=1, min_samples_split=20, n_estimators=200, subsample=1.0\n",
      "[CV 4/5; 12/48] END learning_rate=0.1, max_depth=3, min_samples_leaf=1, min_samples_split=20, n_estimators=200, subsample=1.0;, score=0.597 total time=  16.2s\n",
      "[CV 5/5; 12/48] START learning_rate=0.1, max_depth=3, min_samples_leaf=1, min_samples_split=20, n_estimators=200, subsample=1.0\n",
      "[CV 5/5; 12/48] END learning_rate=0.1, max_depth=3, min_samples_leaf=1, min_samples_split=20, n_estimators=200, subsample=1.0;, score=0.595 total time=  15.7s\n",
      "[CV 1/5; 13/48] START learning_rate=0.1, max_depth=3, min_samples_leaf=2, min_samples_split=2, n_estimators=200, subsample=0.8\n",
      "[CV 1/5; 13/48] END learning_rate=0.1, max_depth=3, min_samples_leaf=2, min_samples_split=2, n_estimators=200, subsample=0.8;, score=0.590 total time=  14.3s\n",
      "[CV 2/5; 13/48] START learning_rate=0.1, max_depth=3, min_samples_leaf=2, min_samples_split=2, n_estimators=200, subsample=0.8\n",
      "[CV 2/5; 13/48] END learning_rate=0.1, max_depth=3, min_samples_leaf=2, min_samples_split=2, n_estimators=200, subsample=0.8;, score=0.594 total time=  13.5s\n",
      "[CV 3/5; 13/48] START learning_rate=0.1, max_depth=3, min_samples_leaf=2, min_samples_split=2, n_estimators=200, subsample=0.8\n",
      "[CV 3/5; 13/48] END learning_rate=0.1, max_depth=3, min_samples_leaf=2, min_samples_split=2, n_estimators=200, subsample=0.8;, score=0.602 total time=  14.3s\n",
      "[CV 4/5; 13/48] START learning_rate=0.1, max_depth=3, min_samples_leaf=2, min_samples_split=2, n_estimators=200, subsample=0.8\n",
      "[CV 4/5; 13/48] END learning_rate=0.1, max_depth=3, min_samples_leaf=2, min_samples_split=2, n_estimators=200, subsample=0.8;, score=0.595 total time=  22.1s\n",
      "[CV 5/5; 13/48] START learning_rate=0.1, max_depth=3, min_samples_leaf=2, min_samples_split=2, n_estimators=200, subsample=0.8\n",
      "[CV 5/5; 13/48] END learning_rate=0.1, max_depth=3, min_samples_leaf=2, min_samples_split=2, n_estimators=200, subsample=0.8;, score=0.601 total time=  20.9s\n",
      "[CV 1/5; 14/48] START learning_rate=0.1, max_depth=3, min_samples_leaf=2, min_samples_split=2, n_estimators=200, subsample=0.9\n",
      "[CV 1/5; 14/48] END learning_rate=0.1, max_depth=3, min_samples_leaf=2, min_samples_split=2, n_estimators=200, subsample=0.9;, score=0.591 total time=  15.7s\n",
      "[CV 2/5; 14/48] START learning_rate=0.1, max_depth=3, min_samples_leaf=2, min_samples_split=2, n_estimators=200, subsample=0.9\n",
      "[CV 2/5; 14/48] END learning_rate=0.1, max_depth=3, min_samples_leaf=2, min_samples_split=2, n_estimators=200, subsample=0.9;, score=0.595 total time=  14.8s\n",
      "[CV 3/5; 14/48] START learning_rate=0.1, max_depth=3, min_samples_leaf=2, min_samples_split=2, n_estimators=200, subsample=0.9\n",
      "[CV 3/5; 14/48] END learning_rate=0.1, max_depth=3, min_samples_leaf=2, min_samples_split=2, n_estimators=200, subsample=0.9;, score=0.601 total time=  13.4s\n",
      "[CV 4/5; 14/48] START learning_rate=0.1, max_depth=3, min_samples_leaf=2, min_samples_split=2, n_estimators=200, subsample=0.9\n",
      "[CV 4/5; 14/48] END learning_rate=0.1, max_depth=3, min_samples_leaf=2, min_samples_split=2, n_estimators=200, subsample=0.9;, score=0.588 total time=  13.9s\n",
      "[CV 5/5; 14/48] START learning_rate=0.1, max_depth=3, min_samples_leaf=2, min_samples_split=2, n_estimators=200, subsample=0.9\n",
      "[CV 5/5; 14/48] END learning_rate=0.1, max_depth=3, min_samples_leaf=2, min_samples_split=2, n_estimators=200, subsample=0.9;, score=0.601 total time=  14.1s\n",
      "[CV 1/5; 15/48] START learning_rate=0.1, max_depth=3, min_samples_leaf=2, min_samples_split=2, n_estimators=200, subsample=1.0\n",
      "[CV 1/5; 15/48] END learning_rate=0.1, max_depth=3, min_samples_leaf=2, min_samples_split=2, n_estimators=200, subsample=1.0;, score=0.592 total time=  15.5s\n",
      "[CV 2/5; 15/48] START learning_rate=0.1, max_depth=3, min_samples_leaf=2, min_samples_split=2, n_estimators=200, subsample=1.0\n",
      "[CV 2/5; 15/48] END learning_rate=0.1, max_depth=3, min_samples_leaf=2, min_samples_split=2, n_estimators=200, subsample=1.0;, score=0.596 total time=  15.3s\n",
      "[CV 3/5; 15/48] START learning_rate=0.1, max_depth=3, min_samples_leaf=2, min_samples_split=2, n_estimators=200, subsample=1.0\n",
      "[CV 3/5; 15/48] END learning_rate=0.1, max_depth=3, min_samples_leaf=2, min_samples_split=2, n_estimators=200, subsample=1.0;, score=0.603 total time=  15.4s\n",
      "[CV 4/5; 15/48] START learning_rate=0.1, max_depth=3, min_samples_leaf=2, min_samples_split=2, n_estimators=200, subsample=1.0\n",
      "[CV 4/5; 15/48] END learning_rate=0.1, max_depth=3, min_samples_leaf=2, min_samples_split=2, n_estimators=200, subsample=1.0;, score=0.588 total time=  21.1s\n",
      "[CV 5/5; 15/48] START learning_rate=0.1, max_depth=3, min_samples_leaf=2, min_samples_split=2, n_estimators=200, subsample=1.0\n",
      "[CV 5/5; 15/48] END learning_rate=0.1, max_depth=3, min_samples_leaf=2, min_samples_split=2, n_estimators=200, subsample=1.0;, score=0.596 total time=  24.7s\n",
      "[CV 1/5; 16/48] START learning_rate=0.1, max_depth=3, min_samples_leaf=2, min_samples_split=5, n_estimators=200, subsample=0.8\n",
      "[CV 1/5; 16/48] END learning_rate=0.1, max_depth=3, min_samples_leaf=2, min_samples_split=5, n_estimators=200, subsample=0.8;, score=0.596 total time=  21.0s\n",
      "[CV 2/5; 16/48] START learning_rate=0.1, max_depth=3, min_samples_leaf=2, min_samples_split=5, n_estimators=200, subsample=0.8\n",
      "[CV 2/5; 16/48] END learning_rate=0.1, max_depth=3, min_samples_leaf=2, min_samples_split=5, n_estimators=200, subsample=0.8;, score=0.589 total time=  23.0s\n",
      "[CV 3/5; 16/48] START learning_rate=0.1, max_depth=3, min_samples_leaf=2, min_samples_split=5, n_estimators=200, subsample=0.8\n",
      "[CV 3/5; 16/48] END learning_rate=0.1, max_depth=3, min_samples_leaf=2, min_samples_split=5, n_estimators=200, subsample=0.8;, score=0.602 total time=  23.3s\n",
      "[CV 4/5; 16/48] START learning_rate=0.1, max_depth=3, min_samples_leaf=2, min_samples_split=5, n_estimators=200, subsample=0.8\n",
      "[CV 4/5; 16/48] END learning_rate=0.1, max_depth=3, min_samples_leaf=2, min_samples_split=5, n_estimators=200, subsample=0.8;, score=0.596 total time=  20.2s\n",
      "[CV 5/5; 16/48] START learning_rate=0.1, max_depth=3, min_samples_leaf=2, min_samples_split=5, n_estimators=200, subsample=0.8\n",
      "[CV 5/5; 16/48] END learning_rate=0.1, max_depth=3, min_samples_leaf=2, min_samples_split=5, n_estimators=200, subsample=0.8;, score=0.598 total time=  22.5s\n",
      "[CV 1/5; 17/48] START learning_rate=0.1, max_depth=3, min_samples_leaf=2, min_samples_split=5, n_estimators=200, subsample=0.9\n",
      "[CV 1/5; 17/48] END learning_rate=0.1, max_depth=3, min_samples_leaf=2, min_samples_split=5, n_estimators=200, subsample=0.9;, score=0.591 total time=  25.3s\n",
      "[CV 2/5; 17/48] START learning_rate=0.1, max_depth=3, min_samples_leaf=2, min_samples_split=5, n_estimators=200, subsample=0.9\n",
      "[CV 2/5; 17/48] END learning_rate=0.1, max_depth=3, min_samples_leaf=2, min_samples_split=5, n_estimators=200, subsample=0.9;, score=0.598 total time=  24.5s\n",
      "[CV 3/5; 17/48] START learning_rate=0.1, max_depth=3, min_samples_leaf=2, min_samples_split=5, n_estimators=200, subsample=0.9\n",
      "[CV 3/5; 17/48] END learning_rate=0.1, max_depth=3, min_samples_leaf=2, min_samples_split=5, n_estimators=200, subsample=0.9;, score=0.598 total time=  24.9s\n",
      "[CV 4/5; 17/48] START learning_rate=0.1, max_depth=3, min_samples_leaf=2, min_samples_split=5, n_estimators=200, subsample=0.9\n",
      "[CV 4/5; 17/48] END learning_rate=0.1, max_depth=3, min_samples_leaf=2, min_samples_split=5, n_estimators=200, subsample=0.9;, score=0.589 total time=  24.5s\n",
      "[CV 5/5; 17/48] START learning_rate=0.1, max_depth=3, min_samples_leaf=2, min_samples_split=5, n_estimators=200, subsample=0.9\n",
      "[CV 5/5; 17/48] END learning_rate=0.1, max_depth=3, min_samples_leaf=2, min_samples_split=5, n_estimators=200, subsample=0.9;, score=0.598 total time=  24.2s\n",
      "[CV 1/5; 18/48] START learning_rate=0.1, max_depth=3, min_samples_leaf=2, min_samples_split=5, n_estimators=200, subsample=1.0\n",
      "[CV 1/5; 18/48] END learning_rate=0.1, max_depth=3, min_samples_leaf=2, min_samples_split=5, n_estimators=200, subsample=1.0;, score=0.590 total time=  24.7s\n",
      "[CV 2/5; 18/48] START learning_rate=0.1, max_depth=3, min_samples_leaf=2, min_samples_split=5, n_estimators=200, subsample=1.0\n",
      "[CV 2/5; 18/48] END learning_rate=0.1, max_depth=3, min_samples_leaf=2, min_samples_split=5, n_estimators=200, subsample=1.0;, score=0.595 total time=  29.4s\n",
      "[CV 3/5; 18/48] START learning_rate=0.1, max_depth=3, min_samples_leaf=2, min_samples_split=5, n_estimators=200, subsample=1.0\n",
      "[CV 3/5; 18/48] END learning_rate=0.1, max_depth=3, min_samples_leaf=2, min_samples_split=5, n_estimators=200, subsample=1.0;, score=0.600 total time=  22.2s\n",
      "[CV 4/5; 18/48] START learning_rate=0.1, max_depth=3, min_samples_leaf=2, min_samples_split=5, n_estimators=200, subsample=1.0\n",
      "[CV 4/5; 18/48] END learning_rate=0.1, max_depth=3, min_samples_leaf=2, min_samples_split=5, n_estimators=200, subsample=1.0;, score=0.591 total time=  27.5s\n",
      "[CV 5/5; 18/48] START learning_rate=0.1, max_depth=3, min_samples_leaf=2, min_samples_split=5, n_estimators=200, subsample=1.0\n",
      "[CV 5/5; 18/48] END learning_rate=0.1, max_depth=3, min_samples_leaf=2, min_samples_split=5, n_estimators=200, subsample=1.0;, score=0.600 total time=  27.9s\n",
      "[CV 1/5; 19/48] START learning_rate=0.1, max_depth=3, min_samples_leaf=2, min_samples_split=10, n_estimators=200, subsample=0.8\n",
      "[CV 1/5; 19/48] END learning_rate=0.1, max_depth=3, min_samples_leaf=2, min_samples_split=10, n_estimators=200, subsample=0.8;, score=0.592 total time=  23.7s\n",
      "[CV 2/5; 19/48] START learning_rate=0.1, max_depth=3, min_samples_leaf=2, min_samples_split=10, n_estimators=200, subsample=0.8\n",
      "[CV 2/5; 19/48] END learning_rate=0.1, max_depth=3, min_samples_leaf=2, min_samples_split=10, n_estimators=200, subsample=0.8;, score=0.600 total time=  23.6s\n",
      "[CV 3/5; 19/48] START learning_rate=0.1, max_depth=3, min_samples_leaf=2, min_samples_split=10, n_estimators=200, subsample=0.8\n",
      "[CV 3/5; 19/48] END learning_rate=0.1, max_depth=3, min_samples_leaf=2, min_samples_split=10, n_estimators=200, subsample=0.8;, score=0.605 total time=  21.4s\n",
      "[CV 4/5; 19/48] START learning_rate=0.1, max_depth=3, min_samples_leaf=2, min_samples_split=10, n_estimators=200, subsample=0.8\n",
      "[CV 4/5; 19/48] END learning_rate=0.1, max_depth=3, min_samples_leaf=2, min_samples_split=10, n_estimators=200, subsample=0.8;, score=0.592 total time=  22.8s\n",
      "[CV 5/5; 19/48] START learning_rate=0.1, max_depth=3, min_samples_leaf=2, min_samples_split=10, n_estimators=200, subsample=0.8\n",
      "[CV 5/5; 19/48] END learning_rate=0.1, max_depth=3, min_samples_leaf=2, min_samples_split=10, n_estimators=200, subsample=0.8;, score=0.596 total time=  22.6s\n",
      "[CV 1/5; 20/48] START learning_rate=0.1, max_depth=3, min_samples_leaf=2, min_samples_split=10, n_estimators=200, subsample=0.9\n",
      "[CV 1/5; 20/48] END learning_rate=0.1, max_depth=3, min_samples_leaf=2, min_samples_split=10, n_estimators=200, subsample=0.9;, score=0.587 total time=  25.1s\n",
      "[CV 2/5; 20/48] START learning_rate=0.1, max_depth=3, min_samples_leaf=2, min_samples_split=10, n_estimators=200, subsample=0.9\n",
      "[CV 2/5; 20/48] END learning_rate=0.1, max_depth=3, min_samples_leaf=2, min_samples_split=10, n_estimators=200, subsample=0.9;, score=0.591 total time=  24.8s\n",
      "[CV 3/5; 20/48] START learning_rate=0.1, max_depth=3, min_samples_leaf=2, min_samples_split=10, n_estimators=200, subsample=0.9\n",
      "[CV 3/5; 20/48] END learning_rate=0.1, max_depth=3, min_samples_leaf=2, min_samples_split=10, n_estimators=200, subsample=0.9;, score=0.596 total time=  27.8s\n",
      "[CV 4/5; 20/48] START learning_rate=0.1, max_depth=3, min_samples_leaf=2, min_samples_split=10, n_estimators=200, subsample=0.9\n",
      "[CV 4/5; 20/48] END learning_rate=0.1, max_depth=3, min_samples_leaf=2, min_samples_split=10, n_estimators=200, subsample=0.9;, score=0.588 total time=  25.2s\n",
      "[CV 5/5; 20/48] START learning_rate=0.1, max_depth=3, min_samples_leaf=2, min_samples_split=10, n_estimators=200, subsample=0.9\n",
      "[CV 5/5; 20/48] END learning_rate=0.1, max_depth=3, min_samples_leaf=2, min_samples_split=10, n_estimators=200, subsample=0.9;, score=0.595 total time=  24.0s\n",
      "[CV 1/5; 21/48] START learning_rate=0.1, max_depth=3, min_samples_leaf=2, min_samples_split=10, n_estimators=200, subsample=1.0\n",
      "[CV 1/5; 21/48] END learning_rate=0.1, max_depth=3, min_samples_leaf=2, min_samples_split=10, n_estimators=200, subsample=1.0;, score=0.591 total time=  25.1s\n",
      "[CV 2/5; 21/48] START learning_rate=0.1, max_depth=3, min_samples_leaf=2, min_samples_split=10, n_estimators=200, subsample=1.0\n",
      "[CV 2/5; 21/48] END learning_rate=0.1, max_depth=3, min_samples_leaf=2, min_samples_split=10, n_estimators=200, subsample=1.0;, score=0.597 total time=  28.2s\n",
      "[CV 3/5; 21/48] START learning_rate=0.1, max_depth=3, min_samples_leaf=2, min_samples_split=10, n_estimators=200, subsample=1.0\n",
      "[CV 3/5; 21/48] END learning_rate=0.1, max_depth=3, min_samples_leaf=2, min_samples_split=10, n_estimators=200, subsample=1.0;, score=0.602 total time=  23.9s\n",
      "[CV 4/5; 21/48] START learning_rate=0.1, max_depth=3, min_samples_leaf=2, min_samples_split=10, n_estimators=200, subsample=1.0\n",
      "[CV 4/5; 21/48] END learning_rate=0.1, max_depth=3, min_samples_leaf=2, min_samples_split=10, n_estimators=200, subsample=1.0;, score=0.591 total time=  27.0s\n",
      "[CV 5/5; 21/48] START learning_rate=0.1, max_depth=3, min_samples_leaf=2, min_samples_split=10, n_estimators=200, subsample=1.0\n",
      "[CV 5/5; 21/48] END learning_rate=0.1, max_depth=3, min_samples_leaf=2, min_samples_split=10, n_estimators=200, subsample=1.0;, score=0.596 total time=  26.5s\n",
      "[CV 1/5; 22/48] START learning_rate=0.1, max_depth=3, min_samples_leaf=2, min_samples_split=20, n_estimators=200, subsample=0.8\n",
      "[CV 1/5; 22/48] END learning_rate=0.1, max_depth=3, min_samples_leaf=2, min_samples_split=20, n_estimators=200, subsample=0.8;, score=0.594 total time=  21.3s\n",
      "[CV 2/5; 22/48] START learning_rate=0.1, max_depth=3, min_samples_leaf=2, min_samples_split=20, n_estimators=200, subsample=0.8\n",
      "[CV 2/5; 22/48] END learning_rate=0.1, max_depth=3, min_samples_leaf=2, min_samples_split=20, n_estimators=200, subsample=0.8;, score=0.592 total time=  21.0s\n",
      "[CV 3/5; 22/48] START learning_rate=0.1, max_depth=3, min_samples_leaf=2, min_samples_split=20, n_estimators=200, subsample=0.8\n",
      "[CV 3/5; 22/48] END learning_rate=0.1, max_depth=3, min_samples_leaf=2, min_samples_split=20, n_estimators=200, subsample=0.8;, score=0.603 total time=  24.1s\n",
      "[CV 4/5; 22/48] START learning_rate=0.1, max_depth=3, min_samples_leaf=2, min_samples_split=20, n_estimators=200, subsample=0.8\n",
      "[CV 4/5; 22/48] END learning_rate=0.1, max_depth=3, min_samples_leaf=2, min_samples_split=20, n_estimators=200, subsample=0.8;, score=0.591 total time=  23.2s\n",
      "[CV 5/5; 22/48] START learning_rate=0.1, max_depth=3, min_samples_leaf=2, min_samples_split=20, n_estimators=200, subsample=0.8\n",
      "[CV 5/5; 22/48] END learning_rate=0.1, max_depth=3, min_samples_leaf=2, min_samples_split=20, n_estimators=200, subsample=0.8;, score=0.596 total time=  22.8s\n",
      "[CV 1/5; 23/48] START learning_rate=0.1, max_depth=3, min_samples_leaf=2, min_samples_split=20, n_estimators=200, subsample=0.9\n",
      "[CV 1/5; 23/48] END learning_rate=0.1, max_depth=3, min_samples_leaf=2, min_samples_split=20, n_estimators=200, subsample=0.9;, score=0.592 total time=  22.5s\n",
      "[CV 2/5; 23/48] START learning_rate=0.1, max_depth=3, min_samples_leaf=2, min_samples_split=20, n_estimators=200, subsample=0.9\n",
      "[CV 2/5; 23/48] END learning_rate=0.1, max_depth=3, min_samples_leaf=2, min_samples_split=20, n_estimators=200, subsample=0.9;, score=0.593 total time=  25.4s\n",
      "[CV 3/5; 23/48] START learning_rate=0.1, max_depth=3, min_samples_leaf=2, min_samples_split=20, n_estimators=200, subsample=0.9\n",
      "[CV 3/5; 23/48] END learning_rate=0.1, max_depth=3, min_samples_leaf=2, min_samples_split=20, n_estimators=200, subsample=0.9;, score=0.604 total time=  25.5s\n",
      "[CV 4/5; 23/48] START learning_rate=0.1, max_depth=3, min_samples_leaf=2, min_samples_split=20, n_estimators=200, subsample=0.9\n",
      "[CV 4/5; 23/48] END learning_rate=0.1, max_depth=3, min_samples_leaf=2, min_samples_split=20, n_estimators=200, subsample=0.9;, score=0.592 total time=  24.5s\n",
      "[CV 5/5; 23/48] START learning_rate=0.1, max_depth=3, min_samples_leaf=2, min_samples_split=20, n_estimators=200, subsample=0.9\n",
      "[CV 5/5; 23/48] END learning_rate=0.1, max_depth=3, min_samples_leaf=2, min_samples_split=20, n_estimators=200, subsample=0.9;, score=0.601 total time=  22.8s\n",
      "[CV 1/5; 24/48] START learning_rate=0.1, max_depth=3, min_samples_leaf=2, min_samples_split=20, n_estimators=200, subsample=1.0\n",
      "[CV 1/5; 24/48] END learning_rate=0.1, max_depth=3, min_samples_leaf=2, min_samples_split=20, n_estimators=200, subsample=1.0;, score=0.588 total time=  26.6s\n",
      "[CV 2/5; 24/48] START learning_rate=0.1, max_depth=3, min_samples_leaf=2, min_samples_split=20, n_estimators=200, subsample=1.0\n",
      "[CV 2/5; 24/48] END learning_rate=0.1, max_depth=3, min_samples_leaf=2, min_samples_split=20, n_estimators=200, subsample=1.0;, score=0.596 total time=  26.0s\n",
      "[CV 3/5; 24/48] START learning_rate=0.1, max_depth=3, min_samples_leaf=2, min_samples_split=20, n_estimators=200, subsample=1.0\n",
      "[CV 3/5; 24/48] END learning_rate=0.1, max_depth=3, min_samples_leaf=2, min_samples_split=20, n_estimators=200, subsample=1.0;, score=0.603 total time=  29.2s\n",
      "[CV 4/5; 24/48] START learning_rate=0.1, max_depth=3, min_samples_leaf=2, min_samples_split=20, n_estimators=200, subsample=1.0\n",
      "[CV 4/5; 24/48] END learning_rate=0.1, max_depth=3, min_samples_leaf=2, min_samples_split=20, n_estimators=200, subsample=1.0;, score=0.590 total time=  22.2s\n",
      "[CV 5/5; 24/48] START learning_rate=0.1, max_depth=3, min_samples_leaf=2, min_samples_split=20, n_estimators=200, subsample=1.0\n",
      "[CV 5/5; 24/48] END learning_rate=0.1, max_depth=3, min_samples_leaf=2, min_samples_split=20, n_estimators=200, subsample=1.0;, score=0.595 total time=  15.8s\n",
      "[CV 1/5; 25/48] START learning_rate=0.1, max_depth=3, min_samples_leaf=4, min_samples_split=2, n_estimators=200, subsample=0.8\n",
      "[CV 1/5; 25/48] END learning_rate=0.1, max_depth=3, min_samples_leaf=4, min_samples_split=2, n_estimators=200, subsample=0.8;, score=0.592 total time=  13.2s\n",
      "[CV 2/5; 25/48] START learning_rate=0.1, max_depth=3, min_samples_leaf=4, min_samples_split=2, n_estimators=200, subsample=0.8\n",
      "[CV 2/5; 25/48] END learning_rate=0.1, max_depth=3, min_samples_leaf=4, min_samples_split=2, n_estimators=200, subsample=0.8;, score=0.596 total time=  12.7s\n",
      "[CV 3/5; 25/48] START learning_rate=0.1, max_depth=3, min_samples_leaf=4, min_samples_split=2, n_estimators=200, subsample=0.8\n",
      "[CV 3/5; 25/48] END learning_rate=0.1, max_depth=3, min_samples_leaf=4, min_samples_split=2, n_estimators=200, subsample=0.8;, score=0.601 total time=  13.1s\n",
      "[CV 4/5; 25/48] START learning_rate=0.1, max_depth=3, min_samples_leaf=4, min_samples_split=2, n_estimators=200, subsample=0.8\n",
      "[CV 4/5; 25/48] END learning_rate=0.1, max_depth=3, min_samples_leaf=4, min_samples_split=2, n_estimators=200, subsample=0.8;, score=0.591 total time=  12.9s\n",
      "[CV 5/5; 25/48] START learning_rate=0.1, max_depth=3, min_samples_leaf=4, min_samples_split=2, n_estimators=200, subsample=0.8\n",
      "[CV 5/5; 25/48] END learning_rate=0.1, max_depth=3, min_samples_leaf=4, min_samples_split=2, n_estimators=200, subsample=0.8;, score=0.594 total time=  12.6s\n",
      "[CV 1/5; 26/48] START learning_rate=0.1, max_depth=3, min_samples_leaf=4, min_samples_split=2, n_estimators=200, subsample=0.9\n",
      "[CV 1/5; 26/48] END learning_rate=0.1, max_depth=3, min_samples_leaf=4, min_samples_split=2, n_estimators=200, subsample=0.9;, score=0.593 total time=  14.4s\n",
      "[CV 2/5; 26/48] START learning_rate=0.1, max_depth=3, min_samples_leaf=4, min_samples_split=2, n_estimators=200, subsample=0.9\n",
      "[CV 2/5; 26/48] END learning_rate=0.1, max_depth=3, min_samples_leaf=4, min_samples_split=2, n_estimators=200, subsample=0.9;, score=0.595 total time=  19.5s\n",
      "[CV 3/5; 26/48] START learning_rate=0.1, max_depth=3, min_samples_leaf=4, min_samples_split=2, n_estimators=200, subsample=0.9\n",
      "[CV 3/5; 26/48] END learning_rate=0.1, max_depth=3, min_samples_leaf=4, min_samples_split=2, n_estimators=200, subsample=0.9;, score=0.599 total time=  16.7s\n",
      "[CV 4/5; 26/48] START learning_rate=0.1, max_depth=3, min_samples_leaf=4, min_samples_split=2, n_estimators=200, subsample=0.9\n",
      "[CV 4/5; 26/48] END learning_rate=0.1, max_depth=3, min_samples_leaf=4, min_samples_split=2, n_estimators=200, subsample=0.9;, score=0.592 total time=  16.7s\n",
      "[CV 5/5; 26/48] START learning_rate=0.1, max_depth=3, min_samples_leaf=4, min_samples_split=2, n_estimators=200, subsample=0.9\n",
      "[CV 5/5; 26/48] END learning_rate=0.1, max_depth=3, min_samples_leaf=4, min_samples_split=2, n_estimators=200, subsample=0.9;, score=0.596 total time=  16.8s\n",
      "[CV 1/5; 27/48] START learning_rate=0.1, max_depth=3, min_samples_leaf=4, min_samples_split=2, n_estimators=200, subsample=1.0\n",
      "[CV 1/5; 27/48] END learning_rate=0.1, max_depth=3, min_samples_leaf=4, min_samples_split=2, n_estimators=200, subsample=1.0;, score=0.594 total time=  17.9s\n",
      "[CV 2/5; 27/48] START learning_rate=0.1, max_depth=3, min_samples_leaf=4, min_samples_split=2, n_estimators=200, subsample=1.0\n",
      "[CV 2/5; 27/48] END learning_rate=0.1, max_depth=3, min_samples_leaf=4, min_samples_split=2, n_estimators=200, subsample=1.0;, score=0.592 total time=  15.5s\n",
      "[CV 3/5; 27/48] START learning_rate=0.1, max_depth=3, min_samples_leaf=4, min_samples_split=2, n_estimators=200, subsample=1.0\n",
      "[CV 3/5; 27/48] END learning_rate=0.1, max_depth=3, min_samples_leaf=4, min_samples_split=2, n_estimators=200, subsample=1.0;, score=0.597 total time=  15.5s\n",
      "[CV 4/5; 27/48] START learning_rate=0.1, max_depth=3, min_samples_leaf=4, min_samples_split=2, n_estimators=200, subsample=1.0\n",
      "[CV 4/5; 27/48] END learning_rate=0.1, max_depth=3, min_samples_leaf=4, min_samples_split=2, n_estimators=200, subsample=1.0;, score=0.587 total time=  21.5s\n",
      "[CV 5/5; 27/48] START learning_rate=0.1, max_depth=3, min_samples_leaf=4, min_samples_split=2, n_estimators=200, subsample=1.0\n",
      "[CV 5/5; 27/48] END learning_rate=0.1, max_depth=3, min_samples_leaf=4, min_samples_split=2, n_estimators=200, subsample=1.0;, score=0.598 total time=  26.2s\n",
      "[CV 1/5; 28/48] START learning_rate=0.1, max_depth=3, min_samples_leaf=4, min_samples_split=5, n_estimators=200, subsample=0.8\n",
      "[CV 1/5; 28/48] END learning_rate=0.1, max_depth=3, min_samples_leaf=4, min_samples_split=5, n_estimators=200, subsample=0.8;, score=0.593 total time=  23.2s\n",
      "[CV 2/5; 28/48] START learning_rate=0.1, max_depth=3, min_samples_leaf=4, min_samples_split=5, n_estimators=200, subsample=0.8\n",
      "[CV 2/5; 28/48] END learning_rate=0.1, max_depth=3, min_samples_leaf=4, min_samples_split=5, n_estimators=200, subsample=0.8;, score=0.596 total time=  22.5s\n",
      "[CV 3/5; 28/48] START learning_rate=0.1, max_depth=3, min_samples_leaf=4, min_samples_split=5, n_estimators=200, subsample=0.8\n",
      "[CV 3/5; 28/48] END learning_rate=0.1, max_depth=3, min_samples_leaf=4, min_samples_split=5, n_estimators=200, subsample=0.8;, score=0.596 total time=  21.2s\n",
      "[CV 4/5; 28/48] START learning_rate=0.1, max_depth=3, min_samples_leaf=4, min_samples_split=5, n_estimators=200, subsample=0.8\n",
      "[CV 4/5; 28/48] END learning_rate=0.1, max_depth=3, min_samples_leaf=4, min_samples_split=5, n_estimators=200, subsample=0.8;, score=0.598 total time=  23.6s\n",
      "[CV 5/5; 28/48] START learning_rate=0.1, max_depth=3, min_samples_leaf=4, min_samples_split=5, n_estimators=200, subsample=0.8\n",
      "[CV 5/5; 28/48] END learning_rate=0.1, max_depth=3, min_samples_leaf=4, min_samples_split=5, n_estimators=200, subsample=0.8;, score=0.601 total time=  21.2s\n",
      "[CV 1/5; 29/48] START learning_rate=0.1, max_depth=3, min_samples_leaf=4, min_samples_split=5, n_estimators=200, subsample=0.9\n",
      "[CV 1/5; 29/48] END learning_rate=0.1, max_depth=3, min_samples_leaf=4, min_samples_split=5, n_estimators=200, subsample=0.9;, score=0.593 total time=  26.1s\n",
      "[CV 2/5; 29/48] START learning_rate=0.1, max_depth=3, min_samples_leaf=4, min_samples_split=5, n_estimators=200, subsample=0.9\n",
      "[CV 2/5; 29/48] END learning_rate=0.1, max_depth=3, min_samples_leaf=4, min_samples_split=5, n_estimators=200, subsample=0.9;, score=0.596 total time=  26.6s\n",
      "[CV 3/5; 29/48] START learning_rate=0.1, max_depth=3, min_samples_leaf=4, min_samples_split=5, n_estimators=200, subsample=0.9\n",
      "[CV 3/5; 29/48] END learning_rate=0.1, max_depth=3, min_samples_leaf=4, min_samples_split=5, n_estimators=200, subsample=0.9;, score=0.602 total time=  22.6s\n",
      "[CV 4/5; 29/48] START learning_rate=0.1, max_depth=3, min_samples_leaf=4, min_samples_split=5, n_estimators=200, subsample=0.9\n",
      "[CV 4/5; 29/48] END learning_rate=0.1, max_depth=3, min_samples_leaf=4, min_samples_split=5, n_estimators=200, subsample=0.9;, score=0.597 total time=  25.9s\n",
      "[CV 5/5; 29/48] START learning_rate=0.1, max_depth=3, min_samples_leaf=4, min_samples_split=5, n_estimators=200, subsample=0.9\n",
      "[CV 5/5; 29/48] END learning_rate=0.1, max_depth=3, min_samples_leaf=4, min_samples_split=5, n_estimators=200, subsample=0.9;, score=0.599 total time=  25.3s\n",
      "[CV 1/5; 30/48] START learning_rate=0.1, max_depth=3, min_samples_leaf=4, min_samples_split=5, n_estimators=200, subsample=1.0\n",
      "[CV 1/5; 30/48] END learning_rate=0.1, max_depth=3, min_samples_leaf=4, min_samples_split=5, n_estimators=200, subsample=1.0;, score=0.594 total time=  27.8s\n",
      "[CV 2/5; 30/48] START learning_rate=0.1, max_depth=3, min_samples_leaf=4, min_samples_split=5, n_estimators=200, subsample=1.0\n",
      "[CV 2/5; 30/48] END learning_rate=0.1, max_depth=3, min_samples_leaf=4, min_samples_split=5, n_estimators=200, subsample=1.0;, score=0.592 total time=  24.0s\n",
      "[CV 3/5; 30/48] START learning_rate=0.1, max_depth=3, min_samples_leaf=4, min_samples_split=5, n_estimators=200, subsample=1.0\n",
      "[CV 3/5; 30/48] END learning_rate=0.1, max_depth=3, min_samples_leaf=4, min_samples_split=5, n_estimators=200, subsample=1.0;, score=0.597 total time=  28.7s\n",
      "[CV 4/5; 30/48] START learning_rate=0.1, max_depth=3, min_samples_leaf=4, min_samples_split=5, n_estimators=200, subsample=1.0\n",
      "[CV 4/5; 30/48] END learning_rate=0.1, max_depth=3, min_samples_leaf=4, min_samples_split=5, n_estimators=200, subsample=1.0;, score=0.587 total time=  23.9s\n",
      "[CV 5/5; 30/48] START learning_rate=0.1, max_depth=3, min_samples_leaf=4, min_samples_split=5, n_estimators=200, subsample=1.0\n",
      "[CV 5/5; 30/48] END learning_rate=0.1, max_depth=3, min_samples_leaf=4, min_samples_split=5, n_estimators=200, subsample=1.0;, score=0.598 total time=  27.7s\n",
      "[CV 1/5; 31/48] START learning_rate=0.1, max_depth=3, min_samples_leaf=4, min_samples_split=10, n_estimators=200, subsample=0.8\n",
      "[CV 1/5; 31/48] END learning_rate=0.1, max_depth=3, min_samples_leaf=4, min_samples_split=10, n_estimators=200, subsample=0.8;, score=0.590 total time=  24.8s\n",
      "[CV 2/5; 31/48] START learning_rate=0.1, max_depth=3, min_samples_leaf=4, min_samples_split=10, n_estimators=200, subsample=0.8\n",
      "[CV 2/5; 31/48] END learning_rate=0.1, max_depth=3, min_samples_leaf=4, min_samples_split=10, n_estimators=200, subsample=0.8;, score=0.587 total time=  23.3s\n",
      "[CV 3/5; 31/48] START learning_rate=0.1, max_depth=3, min_samples_leaf=4, min_samples_split=10, n_estimators=200, subsample=0.8\n",
      "[CV 3/5; 31/48] END learning_rate=0.1, max_depth=3, min_samples_leaf=4, min_samples_split=10, n_estimators=200, subsample=0.8;, score=0.603 total time=  19.1s\n",
      "[CV 4/5; 31/48] START learning_rate=0.1, max_depth=3, min_samples_leaf=4, min_samples_split=10, n_estimators=200, subsample=0.8\n",
      "[CV 4/5; 31/48] END learning_rate=0.1, max_depth=3, min_samples_leaf=4, min_samples_split=10, n_estimators=200, subsample=0.8;, score=0.591 total time=  24.0s\n",
      "[CV 5/5; 31/48] START learning_rate=0.1, max_depth=3, min_samples_leaf=4, min_samples_split=10, n_estimators=200, subsample=0.8\n",
      "[CV 5/5; 31/48] END learning_rate=0.1, max_depth=3, min_samples_leaf=4, min_samples_split=10, n_estimators=200, subsample=0.8;, score=0.600 total time=  22.7s\n",
      "[CV 1/5; 32/48] START learning_rate=0.1, max_depth=3, min_samples_leaf=4, min_samples_split=10, n_estimators=200, subsample=0.9\n",
      "[CV 1/5; 32/48] END learning_rate=0.1, max_depth=3, min_samples_leaf=4, min_samples_split=10, n_estimators=200, subsample=0.9;, score=0.590 total time=  26.2s\n",
      "[CV 2/5; 32/48] START learning_rate=0.1, max_depth=3, min_samples_leaf=4, min_samples_split=10, n_estimators=200, subsample=0.9\n",
      "[CV 2/5; 32/48] END learning_rate=0.1, max_depth=3, min_samples_leaf=4, min_samples_split=10, n_estimators=200, subsample=0.9;, score=0.598 total time=  25.6s\n",
      "[CV 3/5; 32/48] START learning_rate=0.1, max_depth=3, min_samples_leaf=4, min_samples_split=10, n_estimators=200, subsample=0.9\n",
      "[CV 3/5; 32/48] END learning_rate=0.1, max_depth=3, min_samples_leaf=4, min_samples_split=10, n_estimators=200, subsample=0.9;, score=0.602 total time=  25.5s\n",
      "[CV 4/5; 32/48] START learning_rate=0.1, max_depth=3, min_samples_leaf=4, min_samples_split=10, n_estimators=200, subsample=0.9\n",
      "[CV 4/5; 32/48] END learning_rate=0.1, max_depth=3, min_samples_leaf=4, min_samples_split=10, n_estimators=200, subsample=0.9;, score=0.593 total time=  23.3s\n",
      "[CV 5/5; 32/48] START learning_rate=0.1, max_depth=3, min_samples_leaf=4, min_samples_split=10, n_estimators=200, subsample=0.9\n",
      "[CV 5/5; 32/48] END learning_rate=0.1, max_depth=3, min_samples_leaf=4, min_samples_split=10, n_estimators=200, subsample=0.9;, score=0.595 total time=  26.6s\n",
      "[CV 1/5; 33/48] START learning_rate=0.1, max_depth=3, min_samples_leaf=4, min_samples_split=10, n_estimators=200, subsample=1.0\n",
      "[CV 1/5; 33/48] END learning_rate=0.1, max_depth=3, min_samples_leaf=4, min_samples_split=10, n_estimators=200, subsample=1.0;, score=0.593 total time=  26.4s\n",
      "[CV 2/5; 33/48] START learning_rate=0.1, max_depth=3, min_samples_leaf=4, min_samples_split=10, n_estimators=200, subsample=1.0\n",
      "[CV 2/5; 33/48] END learning_rate=0.1, max_depth=3, min_samples_leaf=4, min_samples_split=10, n_estimators=200, subsample=1.0;, score=0.595 total time=  28.0s\n",
      "[CV 3/5; 33/48] START learning_rate=0.1, max_depth=3, min_samples_leaf=4, min_samples_split=10, n_estimators=200, subsample=1.0\n",
      "[CV 3/5; 33/48] END learning_rate=0.1, max_depth=3, min_samples_leaf=4, min_samples_split=10, n_estimators=200, subsample=1.0;, score=0.594 total time=  26.8s\n",
      "[CV 4/5; 33/48] START learning_rate=0.1, max_depth=3, min_samples_leaf=4, min_samples_split=10, n_estimators=200, subsample=1.0\n",
      "[CV 4/5; 33/48] END learning_rate=0.1, max_depth=3, min_samples_leaf=4, min_samples_split=10, n_estimators=200, subsample=1.0;, score=0.588 total time=  24.5s\n",
      "[CV 5/5; 33/48] START learning_rate=0.1, max_depth=3, min_samples_leaf=4, min_samples_split=10, n_estimators=200, subsample=1.0\n",
      "[CV 5/5; 33/48] END learning_rate=0.1, max_depth=3, min_samples_leaf=4, min_samples_split=10, n_estimators=200, subsample=1.0;, score=0.597 total time=  26.4s\n",
      "[CV 1/5; 34/48] START learning_rate=0.1, max_depth=3, min_samples_leaf=4, min_samples_split=20, n_estimators=200, subsample=0.8\n",
      "[CV 1/5; 34/48] END learning_rate=0.1, max_depth=3, min_samples_leaf=4, min_samples_split=20, n_estimators=200, subsample=0.8;, score=0.592 total time=  24.6s\n",
      "[CV 2/5; 34/48] START learning_rate=0.1, max_depth=3, min_samples_leaf=4, min_samples_split=20, n_estimators=200, subsample=0.8\n",
      "[CV 2/5; 34/48] END learning_rate=0.1, max_depth=3, min_samples_leaf=4, min_samples_split=20, n_estimators=200, subsample=0.8;, score=0.603 total time=  20.9s\n",
      "[CV 3/5; 34/48] START learning_rate=0.1, max_depth=3, min_samples_leaf=4, min_samples_split=20, n_estimators=200, subsample=0.8\n",
      "[CV 3/5; 34/48] END learning_rate=0.1, max_depth=3, min_samples_leaf=4, min_samples_split=20, n_estimators=200, subsample=0.8;, score=0.595 total time=  20.1s\n",
      "[CV 4/5; 34/48] START learning_rate=0.1, max_depth=3, min_samples_leaf=4, min_samples_split=20, n_estimators=200, subsample=0.8\n",
      "[CV 4/5; 34/48] END learning_rate=0.1, max_depth=3, min_samples_leaf=4, min_samples_split=20, n_estimators=200, subsample=0.8;, score=0.589 total time=  22.3s\n",
      "[CV 5/5; 34/48] START learning_rate=0.1, max_depth=3, min_samples_leaf=4, min_samples_split=20, n_estimators=200, subsample=0.8\n",
      "[CV 5/5; 34/48] END learning_rate=0.1, max_depth=3, min_samples_leaf=4, min_samples_split=20, n_estimators=200, subsample=0.8;, score=0.599 total time=  23.7s\n",
      "[CV 1/5; 35/48] START learning_rate=0.1, max_depth=3, min_samples_leaf=4, min_samples_split=20, n_estimators=200, subsample=0.9\n",
      "[CV 1/5; 35/48] END learning_rate=0.1, max_depth=3, min_samples_leaf=4, min_samples_split=20, n_estimators=200, subsample=0.9;, score=0.590 total time=  23.8s\n",
      "[CV 2/5; 35/48] START learning_rate=0.1, max_depth=3, min_samples_leaf=4, min_samples_split=20, n_estimators=200, subsample=0.9\n",
      "[CV 2/5; 35/48] END learning_rate=0.1, max_depth=3, min_samples_leaf=4, min_samples_split=20, n_estimators=200, subsample=0.9;, score=0.591 total time=  25.4s\n",
      "[CV 3/5; 35/48] START learning_rate=0.1, max_depth=3, min_samples_leaf=4, min_samples_split=20, n_estimators=200, subsample=0.9\n",
      "[CV 3/5; 35/48] END learning_rate=0.1, max_depth=3, min_samples_leaf=4, min_samples_split=20, n_estimators=200, subsample=0.9;, score=0.601 total time=  25.6s\n",
      "[CV 4/5; 35/48] START learning_rate=0.1, max_depth=3, min_samples_leaf=4, min_samples_split=20, n_estimators=200, subsample=0.9\n",
      "[CV 4/5; 35/48] END learning_rate=0.1, max_depth=3, min_samples_leaf=4, min_samples_split=20, n_estimators=200, subsample=0.9;, score=0.590 total time=  24.8s\n",
      "[CV 5/5; 35/48] START learning_rate=0.1, max_depth=3, min_samples_leaf=4, min_samples_split=20, n_estimators=200, subsample=0.9\n",
      "[CV 5/5; 35/48] END learning_rate=0.1, max_depth=3, min_samples_leaf=4, min_samples_split=20, n_estimators=200, subsample=0.9;, score=0.598 total time=  20.5s\n",
      "[CV 1/5; 36/48] START learning_rate=0.1, max_depth=3, min_samples_leaf=4, min_samples_split=20, n_estimators=200, subsample=1.0\n",
      "[CV 1/5; 36/48] END learning_rate=0.1, max_depth=3, min_samples_leaf=4, min_samples_split=20, n_estimators=200, subsample=1.0;, score=0.590 total time=  33.9s\n",
      "[CV 2/5; 36/48] START learning_rate=0.1, max_depth=3, min_samples_leaf=4, min_samples_split=20, n_estimators=200, subsample=1.0\n",
      "[CV 2/5; 36/48] END learning_rate=0.1, max_depth=3, min_samples_leaf=4, min_samples_split=20, n_estimators=200, subsample=1.0;, score=0.593 total time=  19.6s\n",
      "[CV 3/5; 36/48] START learning_rate=0.1, max_depth=3, min_samples_leaf=4, min_samples_split=20, n_estimators=200, subsample=1.0\n",
      "[CV 3/5; 36/48] END learning_rate=0.1, max_depth=3, min_samples_leaf=4, min_samples_split=20, n_estimators=200, subsample=1.0;, score=0.600 total time=  14.2s\n",
      "[CV 4/5; 36/48] START learning_rate=0.1, max_depth=3, min_samples_leaf=4, min_samples_split=20, n_estimators=200, subsample=1.0\n",
      "[CV 4/5; 36/48] END learning_rate=0.1, max_depth=3, min_samples_leaf=4, min_samples_split=20, n_estimators=200, subsample=1.0;, score=0.589 total time=  16.6s\n",
      "[CV 5/5; 36/48] START learning_rate=0.1, max_depth=3, min_samples_leaf=4, min_samples_split=20, n_estimators=200, subsample=1.0\n",
      "[CV 5/5; 36/48] END learning_rate=0.1, max_depth=3, min_samples_leaf=4, min_samples_split=20, n_estimators=200, subsample=1.0;, score=0.598 total time=  15.3s\n",
      "[CV 1/5; 37/48] START learning_rate=0.1, max_depth=3, min_samples_leaf=8, min_samples_split=2, n_estimators=200, subsample=0.8\n",
      "[CV 1/5; 37/48] END learning_rate=0.1, max_depth=3, min_samples_leaf=8, min_samples_split=2, n_estimators=200, subsample=0.8;, score=0.585 total time=  10.9s\n",
      "[CV 2/5; 37/48] START learning_rate=0.1, max_depth=3, min_samples_leaf=8, min_samples_split=2, n_estimators=200, subsample=0.8\n",
      "[CV 2/5; 37/48] END learning_rate=0.1, max_depth=3, min_samples_leaf=8, min_samples_split=2, n_estimators=200, subsample=0.8;, score=0.598 total time=  10.7s\n",
      "[CV 3/5; 37/48] START learning_rate=0.1, max_depth=3, min_samples_leaf=8, min_samples_split=2, n_estimators=200, subsample=0.8\n",
      "[CV 3/5; 37/48] END learning_rate=0.1, max_depth=3, min_samples_leaf=8, min_samples_split=2, n_estimators=200, subsample=0.8;, score=0.598 total time=  10.6s\n",
      "[CV 4/5; 37/48] START learning_rate=0.1, max_depth=3, min_samples_leaf=8, min_samples_split=2, n_estimators=200, subsample=0.8\n",
      "[CV 4/5; 37/48] END learning_rate=0.1, max_depth=3, min_samples_leaf=8, min_samples_split=2, n_estimators=200, subsample=0.8;, score=0.593 total time=  10.8s\n",
      "[CV 5/5; 37/48] START learning_rate=0.1, max_depth=3, min_samples_leaf=8, min_samples_split=2, n_estimators=200, subsample=0.8\n",
      "[CV 5/5; 37/48] END learning_rate=0.1, max_depth=3, min_samples_leaf=8, min_samples_split=2, n_estimators=200, subsample=0.8;, score=0.589 total time=  10.8s\n",
      "[CV 1/5; 38/48] START learning_rate=0.1, max_depth=3, min_samples_leaf=8, min_samples_split=2, n_estimators=200, subsample=0.9\n",
      "[CV 1/5; 38/48] END learning_rate=0.1, max_depth=3, min_samples_leaf=8, min_samples_split=2, n_estimators=200, subsample=0.9;, score=0.586 total time=  11.6s\n",
      "[CV 2/5; 38/48] START learning_rate=0.1, max_depth=3, min_samples_leaf=8, min_samples_split=2, n_estimators=200, subsample=0.9\n",
      "[CV 2/5; 38/48] END learning_rate=0.1, max_depth=3, min_samples_leaf=8, min_samples_split=2, n_estimators=200, subsample=0.9;, score=0.597 total time=  11.7s\n",
      "[CV 3/5; 38/48] START learning_rate=0.1, max_depth=3, min_samples_leaf=8, min_samples_split=2, n_estimators=200, subsample=0.9\n",
      "[CV 3/5; 38/48] END learning_rate=0.1, max_depth=3, min_samples_leaf=8, min_samples_split=2, n_estimators=200, subsample=0.9;, score=0.602 total time=  11.6s\n",
      "[CV 4/5; 38/48] START learning_rate=0.1, max_depth=3, min_samples_leaf=8, min_samples_split=2, n_estimators=200, subsample=0.9\n",
      "[CV 4/5; 38/48] END learning_rate=0.1, max_depth=3, min_samples_leaf=8, min_samples_split=2, n_estimators=200, subsample=0.9;, score=0.586 total time=  11.8s\n",
      "[CV 5/5; 38/48] START learning_rate=0.1, max_depth=3, min_samples_leaf=8, min_samples_split=2, n_estimators=200, subsample=0.9\n",
      "[CV 5/5; 38/48] END learning_rate=0.1, max_depth=3, min_samples_leaf=8, min_samples_split=2, n_estimators=200, subsample=0.9;, score=0.597 total time=  12.7s\n",
      "[CV 1/5; 39/48] START learning_rate=0.1, max_depth=3, min_samples_leaf=8, min_samples_split=2, n_estimators=200, subsample=1.0\n",
      "[CV 1/5; 39/48] END learning_rate=0.1, max_depth=3, min_samples_leaf=8, min_samples_split=2, n_estimators=200, subsample=1.0;, score=0.589 total time=  13.8s\n",
      "[CV 2/5; 39/48] START learning_rate=0.1, max_depth=3, min_samples_leaf=8, min_samples_split=2, n_estimators=200, subsample=1.0\n",
      "[CV 2/5; 39/48] END learning_rate=0.1, max_depth=3, min_samples_leaf=8, min_samples_split=2, n_estimators=200, subsample=1.0;, score=0.596 total time=  13.1s\n",
      "[CV 3/5; 39/48] START learning_rate=0.1, max_depth=3, min_samples_leaf=8, min_samples_split=2, n_estimators=200, subsample=1.0\n",
      "[CV 3/5; 39/48] END learning_rate=0.1, max_depth=3, min_samples_leaf=8, min_samples_split=2, n_estimators=200, subsample=1.0;, score=0.597 total time=  14.4s\n",
      "[CV 4/5; 39/48] START learning_rate=0.1, max_depth=3, min_samples_leaf=8, min_samples_split=2, n_estimators=200, subsample=1.0\n",
      "[CV 4/5; 39/48] END learning_rate=0.1, max_depth=3, min_samples_leaf=8, min_samples_split=2, n_estimators=200, subsample=1.0;, score=0.587 total time=  13.4s\n",
      "[CV 5/5; 39/48] START learning_rate=0.1, max_depth=3, min_samples_leaf=8, min_samples_split=2, n_estimators=200, subsample=1.0\n",
      "[CV 5/5; 39/48] END learning_rate=0.1, max_depth=3, min_samples_leaf=8, min_samples_split=2, n_estimators=200, subsample=1.0;, score=0.599 total time=  13.4s\n",
      "[CV 1/5; 40/48] START learning_rate=0.1, max_depth=3, min_samples_leaf=8, min_samples_split=5, n_estimators=200, subsample=0.8\n",
      "[CV 1/5; 40/48] END learning_rate=0.1, max_depth=3, min_samples_leaf=8, min_samples_split=5, n_estimators=200, subsample=0.8;, score=0.592 total time=  11.5s\n",
      "[CV 2/5; 40/48] START learning_rate=0.1, max_depth=3, min_samples_leaf=8, min_samples_split=5, n_estimators=200, subsample=0.8\n",
      "[CV 2/5; 40/48] END learning_rate=0.1, max_depth=3, min_samples_leaf=8, min_samples_split=5, n_estimators=200, subsample=0.8;, score=0.598 total time=  11.7s\n",
      "[CV 3/5; 40/48] START learning_rate=0.1, max_depth=3, min_samples_leaf=8, min_samples_split=5, n_estimators=200, subsample=0.8\n",
      "[CV 3/5; 40/48] END learning_rate=0.1, max_depth=3, min_samples_leaf=8, min_samples_split=5, n_estimators=200, subsample=0.8;, score=0.600 total time=  10.8s\n",
      "[CV 4/5; 40/48] START learning_rate=0.1, max_depth=3, min_samples_leaf=8, min_samples_split=5, n_estimators=200, subsample=0.8\n",
      "[CV 4/5; 40/48] END learning_rate=0.1, max_depth=3, min_samples_leaf=8, min_samples_split=5, n_estimators=200, subsample=0.8;, score=0.588 total time=  11.2s\n",
      "[CV 5/5; 40/48] START learning_rate=0.1, max_depth=3, min_samples_leaf=8, min_samples_split=5, n_estimators=200, subsample=0.8\n",
      "[CV 5/5; 40/48] END learning_rate=0.1, max_depth=3, min_samples_leaf=8, min_samples_split=5, n_estimators=200, subsample=0.8;, score=0.595 total time=  11.8s\n",
      "[CV 1/5; 41/48] START learning_rate=0.1, max_depth=3, min_samples_leaf=8, min_samples_split=5, n_estimators=200, subsample=0.9\n",
      "[CV 1/5; 41/48] END learning_rate=0.1, max_depth=3, min_samples_leaf=8, min_samples_split=5, n_estimators=200, subsample=0.9;, score=0.591 total time=  14.8s\n",
      "[CV 2/5; 41/48] START learning_rate=0.1, max_depth=3, min_samples_leaf=8, min_samples_split=5, n_estimators=200, subsample=0.9\n",
      "[CV 2/5; 41/48] END learning_rate=0.1, max_depth=3, min_samples_leaf=8, min_samples_split=5, n_estimators=200, subsample=0.9;, score=0.591 total time=  14.2s\n",
      "[CV 3/5; 41/48] START learning_rate=0.1, max_depth=3, min_samples_leaf=8, min_samples_split=5, n_estimators=200, subsample=0.9\n",
      "[CV 3/5; 41/48] END learning_rate=0.1, max_depth=3, min_samples_leaf=8, min_samples_split=5, n_estimators=200, subsample=0.9;, score=0.596 total time=  13.2s\n",
      "[CV 4/5; 41/48] START learning_rate=0.1, max_depth=3, min_samples_leaf=8, min_samples_split=5, n_estimators=200, subsample=0.9\n",
      "[CV 4/5; 41/48] END learning_rate=0.1, max_depth=3, min_samples_leaf=8, min_samples_split=5, n_estimators=200, subsample=0.9;, score=0.587 total time=  13.2s\n",
      "[CV 5/5; 41/48] START learning_rate=0.1, max_depth=3, min_samples_leaf=8, min_samples_split=5, n_estimators=200, subsample=0.9\n",
      "[CV 5/5; 41/48] END learning_rate=0.1, max_depth=3, min_samples_leaf=8, min_samples_split=5, n_estimators=200, subsample=0.9;, score=0.595 total time=  12.2s\n",
      "[CV 1/5; 42/48] START learning_rate=0.1, max_depth=3, min_samples_leaf=8, min_samples_split=5, n_estimators=200, subsample=1.0\n",
      "[CV 1/5; 42/48] END learning_rate=0.1, max_depth=3, min_samples_leaf=8, min_samples_split=5, n_estimators=200, subsample=1.0;, score=0.589 total time=  13.1s\n",
      "[CV 2/5; 42/48] START learning_rate=0.1, max_depth=3, min_samples_leaf=8, min_samples_split=5, n_estimators=200, subsample=1.0\n",
      "[CV 2/5; 42/48] END learning_rate=0.1, max_depth=3, min_samples_leaf=8, min_samples_split=5, n_estimators=200, subsample=1.0;, score=0.596 total time=  13.2s\n",
      "[CV 3/5; 42/48] START learning_rate=0.1, max_depth=3, min_samples_leaf=8, min_samples_split=5, n_estimators=200, subsample=1.0\n",
      "[CV 3/5; 42/48] END learning_rate=0.1, max_depth=3, min_samples_leaf=8, min_samples_split=5, n_estimators=200, subsample=1.0;, score=0.597 total time=  13.0s\n",
      "[CV 4/5; 42/48] START learning_rate=0.1, max_depth=3, min_samples_leaf=8, min_samples_split=5, n_estimators=200, subsample=1.0\n",
      "[CV 4/5; 42/48] END learning_rate=0.1, max_depth=3, min_samples_leaf=8, min_samples_split=5, n_estimators=200, subsample=1.0;, score=0.587 total time=  12.8s\n",
      "[CV 5/5; 42/48] START learning_rate=0.1, max_depth=3, min_samples_leaf=8, min_samples_split=5, n_estimators=200, subsample=1.0\n",
      "[CV 5/5; 42/48] END learning_rate=0.1, max_depth=3, min_samples_leaf=8, min_samples_split=5, n_estimators=200, subsample=1.0;, score=0.599 total time=  13.1s\n",
      "[CV 1/5; 43/48] START learning_rate=0.1, max_depth=3, min_samples_leaf=8, min_samples_split=10, n_estimators=200, subsample=0.8\n",
      "[CV 1/5; 43/48] END learning_rate=0.1, max_depth=3, min_samples_leaf=8, min_samples_split=10, n_estimators=200, subsample=0.8;, score=0.592 total time=  11.4s\n",
      "[CV 2/5; 43/48] START learning_rate=0.1, max_depth=3, min_samples_leaf=8, min_samples_split=10, n_estimators=200, subsample=0.8\n",
      "[CV 2/5; 43/48] END learning_rate=0.1, max_depth=3, min_samples_leaf=8, min_samples_split=10, n_estimators=200, subsample=0.8;, score=0.593 total time=  12.1s\n",
      "[CV 3/5; 43/48] START learning_rate=0.1, max_depth=3, min_samples_leaf=8, min_samples_split=10, n_estimators=200, subsample=0.8\n",
      "[CV 3/5; 43/48] END learning_rate=0.1, max_depth=3, min_samples_leaf=8, min_samples_split=10, n_estimators=200, subsample=0.8;, score=0.604 total time=  12.0s\n",
      "[CV 4/5; 43/48] START learning_rate=0.1, max_depth=3, min_samples_leaf=8, min_samples_split=10, n_estimators=200, subsample=0.8\n",
      "[CV 4/5; 43/48] END learning_rate=0.1, max_depth=3, min_samples_leaf=8, min_samples_split=10, n_estimators=200, subsample=0.8;, score=0.591 total time=  11.3s\n",
      "[CV 5/5; 43/48] START learning_rate=0.1, max_depth=3, min_samples_leaf=8, min_samples_split=10, n_estimators=200, subsample=0.8\n",
      "[CV 5/5; 43/48] END learning_rate=0.1, max_depth=3, min_samples_leaf=8, min_samples_split=10, n_estimators=200, subsample=0.8;, score=0.596 total time=  12.0s\n",
      "[CV 1/5; 44/48] START learning_rate=0.1, max_depth=3, min_samples_leaf=8, min_samples_split=10, n_estimators=200, subsample=0.9\n",
      "[CV 1/5; 44/48] END learning_rate=0.1, max_depth=3, min_samples_leaf=8, min_samples_split=10, n_estimators=200, subsample=0.9;, score=0.592 total time=  13.0s\n",
      "[CV 2/5; 44/48] START learning_rate=0.1, max_depth=3, min_samples_leaf=8, min_samples_split=10, n_estimators=200, subsample=0.9\n",
      "[CV 2/5; 44/48] END learning_rate=0.1, max_depth=3, min_samples_leaf=8, min_samples_split=10, n_estimators=200, subsample=0.9;, score=0.593 total time=  12.5s\n",
      "[CV 3/5; 44/48] START learning_rate=0.1, max_depth=3, min_samples_leaf=8, min_samples_split=10, n_estimators=200, subsample=0.9\n",
      "[CV 3/5; 44/48] END learning_rate=0.1, max_depth=3, min_samples_leaf=8, min_samples_split=10, n_estimators=200, subsample=0.9;, score=0.603 total time=  12.4s\n",
      "[CV 4/5; 44/48] START learning_rate=0.1, max_depth=3, min_samples_leaf=8, min_samples_split=10, n_estimators=200, subsample=0.9\n",
      "[CV 4/5; 44/48] END learning_rate=0.1, max_depth=3, min_samples_leaf=8, min_samples_split=10, n_estimators=200, subsample=0.9;, score=0.592 total time=  12.3s\n",
      "[CV 5/5; 44/48] START learning_rate=0.1, max_depth=3, min_samples_leaf=8, min_samples_split=10, n_estimators=200, subsample=0.9\n",
      "[CV 5/5; 44/48] END learning_rate=0.1, max_depth=3, min_samples_leaf=8, min_samples_split=10, n_estimators=200, subsample=0.9;, score=0.595 total time=  13.1s\n",
      "[CV 1/5; 45/48] START learning_rate=0.1, max_depth=3, min_samples_leaf=8, min_samples_split=10, n_estimators=200, subsample=1.0\n",
      "[CV 1/5; 45/48] END learning_rate=0.1, max_depth=3, min_samples_leaf=8, min_samples_split=10, n_estimators=200, subsample=1.0;, score=0.589 total time=  13.9s\n",
      "[CV 2/5; 45/48] START learning_rate=0.1, max_depth=3, min_samples_leaf=8, min_samples_split=10, n_estimators=200, subsample=1.0\n",
      "[CV 2/5; 45/48] END learning_rate=0.1, max_depth=3, min_samples_leaf=8, min_samples_split=10, n_estimators=200, subsample=1.0;, score=0.596 total time=  13.7s\n",
      "[CV 3/5; 45/48] START learning_rate=0.1, max_depth=3, min_samples_leaf=8, min_samples_split=10, n_estimators=200, subsample=1.0\n",
      "[CV 3/5; 45/48] END learning_rate=0.1, max_depth=3, min_samples_leaf=8, min_samples_split=10, n_estimators=200, subsample=1.0;, score=0.597 total time=  13.7s\n",
      "[CV 4/5; 45/48] START learning_rate=0.1, max_depth=3, min_samples_leaf=8, min_samples_split=10, n_estimators=200, subsample=1.0\n",
      "[CV 4/5; 45/48] END learning_rate=0.1, max_depth=3, min_samples_leaf=8, min_samples_split=10, n_estimators=200, subsample=1.0;, score=0.587 total time=  13.8s\n",
      "[CV 5/5; 45/48] START learning_rate=0.1, max_depth=3, min_samples_leaf=8, min_samples_split=10, n_estimators=200, subsample=1.0\n",
      "[CV 5/5; 45/48] END learning_rate=0.1, max_depth=3, min_samples_leaf=8, min_samples_split=10, n_estimators=200, subsample=1.0;, score=0.599 total time=  13.5s\n",
      "[CV 1/5; 46/48] START learning_rate=0.1, max_depth=3, min_samples_leaf=8, min_samples_split=20, n_estimators=200, subsample=0.8\n",
      "[CV 1/5; 46/48] END learning_rate=0.1, max_depth=3, min_samples_leaf=8, min_samples_split=20, n_estimators=200, subsample=0.8;, score=0.591 total time=  11.4s\n",
      "[CV 2/5; 46/48] START learning_rate=0.1, max_depth=3, min_samples_leaf=8, min_samples_split=20, n_estimators=200, subsample=0.8\n",
      "[CV 2/5; 46/48] END learning_rate=0.1, max_depth=3, min_samples_leaf=8, min_samples_split=20, n_estimators=200, subsample=0.8;, score=0.593 total time=  18.5s\n",
      "[CV 3/5; 46/48] START learning_rate=0.1, max_depth=3, min_samples_leaf=8, min_samples_split=20, n_estimators=200, subsample=0.8\n",
      "[CV 3/5; 46/48] END learning_rate=0.1, max_depth=3, min_samples_leaf=8, min_samples_split=20, n_estimators=200, subsample=0.8;, score=0.599 total time=  20.9s\n",
      "[CV 4/5; 46/48] START learning_rate=0.1, max_depth=3, min_samples_leaf=8, min_samples_split=20, n_estimators=200, subsample=0.8\n",
      "[CV 4/5; 46/48] END learning_rate=0.1, max_depth=3, min_samples_leaf=8, min_samples_split=20, n_estimators=200, subsample=0.8;, score=0.591 total time=  14.1s\n",
      "[CV 5/5; 46/48] START learning_rate=0.1, max_depth=3, min_samples_leaf=8, min_samples_split=20, n_estimators=200, subsample=0.8\n",
      "[CV 5/5; 46/48] END learning_rate=0.1, max_depth=3, min_samples_leaf=8, min_samples_split=20, n_estimators=200, subsample=0.8;, score=0.599 total time=  11.4s\n",
      "[CV 1/5; 47/48] START learning_rate=0.1, max_depth=3, min_samples_leaf=8, min_samples_split=20, n_estimators=200, subsample=0.9\n",
      "[CV 1/5; 47/48] END learning_rate=0.1, max_depth=3, min_samples_leaf=8, min_samples_split=20, n_estimators=200, subsample=0.9;, score=0.591 total time=  12.1s\n",
      "[CV 2/5; 47/48] START learning_rate=0.1, max_depth=3, min_samples_leaf=8, min_samples_split=20, n_estimators=200, subsample=0.9\n",
      "[CV 2/5; 47/48] END learning_rate=0.1, max_depth=3, min_samples_leaf=8, min_samples_split=20, n_estimators=200, subsample=0.9;, score=0.596 total time=  12.1s\n",
      "[CV 3/5; 47/48] START learning_rate=0.1, max_depth=3, min_samples_leaf=8, min_samples_split=20, n_estimators=200, subsample=0.9\n",
      "[CV 3/5; 47/48] END learning_rate=0.1, max_depth=3, min_samples_leaf=8, min_samples_split=20, n_estimators=200, subsample=0.9;, score=0.598 total time=  12.9s\n",
      "[CV 4/5; 47/48] START learning_rate=0.1, max_depth=3, min_samples_leaf=8, min_samples_split=20, n_estimators=200, subsample=0.9\n",
      "[CV 4/5; 47/48] END learning_rate=0.1, max_depth=3, min_samples_leaf=8, min_samples_split=20, n_estimators=200, subsample=0.9;, score=0.590 total time=  12.2s\n",
      "[CV 5/5; 47/48] START learning_rate=0.1, max_depth=3, min_samples_leaf=8, min_samples_split=20, n_estimators=200, subsample=0.9\n",
      "[CV 5/5; 47/48] END learning_rate=0.1, max_depth=3, min_samples_leaf=8, min_samples_split=20, n_estimators=200, subsample=0.9;, score=0.602 total time=  12.7s\n",
      "[CV 1/5; 48/48] START learning_rate=0.1, max_depth=3, min_samples_leaf=8, min_samples_split=20, n_estimators=200, subsample=1.0\n",
      "[CV 1/5; 48/48] END learning_rate=0.1, max_depth=3, min_samples_leaf=8, min_samples_split=20, n_estimators=200, subsample=1.0;, score=0.590 total time=  13.7s\n",
      "[CV 2/5; 48/48] START learning_rate=0.1, max_depth=3, min_samples_leaf=8, min_samples_split=20, n_estimators=200, subsample=1.0\n",
      "[CV 2/5; 48/48] END learning_rate=0.1, max_depth=3, min_samples_leaf=8, min_samples_split=20, n_estimators=200, subsample=1.0;, score=0.592 total time=  14.2s\n",
      "[CV 3/5; 48/48] START learning_rate=0.1, max_depth=3, min_samples_leaf=8, min_samples_split=20, n_estimators=200, subsample=1.0\n",
      "[CV 3/5; 48/48] END learning_rate=0.1, max_depth=3, min_samples_leaf=8, min_samples_split=20, n_estimators=200, subsample=1.0;, score=0.593 total time=  13.6s\n",
      "[CV 4/5; 48/48] START learning_rate=0.1, max_depth=3, min_samples_leaf=8, min_samples_split=20, n_estimators=200, subsample=1.0\n",
      "[CV 4/5; 48/48] END learning_rate=0.1, max_depth=3, min_samples_leaf=8, min_samples_split=20, n_estimators=200, subsample=1.0;, score=0.587 total time=  12.7s\n",
      "[CV 5/5; 48/48] START learning_rate=0.1, max_depth=3, min_samples_leaf=8, min_samples_split=20, n_estimators=200, subsample=1.0\n",
      "[CV 5/5; 48/48] END learning_rate=0.1, max_depth=3, min_samples_leaf=8, min_samples_split=20, n_estimators=200, subsample=1.0;, score=0.598 total time=  13.0s\n"
     ]
    },
    {
     "data": {
      "text/html": [
       "<style>#sk-container-id-7 {color: black;}#sk-container-id-7 pre{padding: 0;}#sk-container-id-7 div.sk-toggleable {background-color: white;}#sk-container-id-7 label.sk-toggleable__label {cursor: pointer;display: block;width: 100%;margin-bottom: 0;padding: 0.3em;box-sizing: border-box;text-align: center;}#sk-container-id-7 label.sk-toggleable__label-arrow:before {content: \"▸\";float: left;margin-right: 0.25em;color: #696969;}#sk-container-id-7 label.sk-toggleable__label-arrow:hover:before {color: black;}#sk-container-id-7 div.sk-estimator:hover label.sk-toggleable__label-arrow:before {color: black;}#sk-container-id-7 div.sk-toggleable__content {max-height: 0;max-width: 0;overflow: hidden;text-align: left;background-color: #f0f8ff;}#sk-container-id-7 div.sk-toggleable__content pre {margin: 0.2em;color: black;border-radius: 0.25em;background-color: #f0f8ff;}#sk-container-id-7 input.sk-toggleable__control:checked~div.sk-toggleable__content {max-height: 200px;max-width: 100%;overflow: auto;}#sk-container-id-7 input.sk-toggleable__control:checked~label.sk-toggleable__label-arrow:before {content: \"▾\";}#sk-container-id-7 div.sk-estimator input.sk-toggleable__control:checked~label.sk-toggleable__label {background-color: #d4ebff;}#sk-container-id-7 div.sk-label input.sk-toggleable__control:checked~label.sk-toggleable__label {background-color: #d4ebff;}#sk-container-id-7 input.sk-hidden--visually {border: 0;clip: rect(1px 1px 1px 1px);clip: rect(1px, 1px, 1px, 1px);height: 1px;margin: -1px;overflow: hidden;padding: 0;position: absolute;width: 1px;}#sk-container-id-7 div.sk-estimator {font-family: monospace;background-color: #f0f8ff;border: 1px dotted black;border-radius: 0.25em;box-sizing: border-box;margin-bottom: 0.5em;}#sk-container-id-7 div.sk-estimator:hover {background-color: #d4ebff;}#sk-container-id-7 div.sk-parallel-item::after {content: \"\";width: 100%;border-bottom: 1px solid gray;flex-grow: 1;}#sk-container-id-7 div.sk-label:hover label.sk-toggleable__label {background-color: #d4ebff;}#sk-container-id-7 div.sk-serial::before {content: \"\";position: absolute;border-left: 1px solid gray;box-sizing: border-box;top: 0;bottom: 0;left: 50%;z-index: 0;}#sk-container-id-7 div.sk-serial {display: flex;flex-direction: column;align-items: center;background-color: white;padding-right: 0.2em;padding-left: 0.2em;position: relative;}#sk-container-id-7 div.sk-item {position: relative;z-index: 1;}#sk-container-id-7 div.sk-parallel {display: flex;align-items: stretch;justify-content: center;background-color: white;position: relative;}#sk-container-id-7 div.sk-item::before, #sk-container-id-7 div.sk-parallel-item::before {content: \"\";position: absolute;border-left: 1px solid gray;box-sizing: border-box;top: 0;bottom: 0;left: 50%;z-index: -1;}#sk-container-id-7 div.sk-parallel-item {display: flex;flex-direction: column;z-index: 1;position: relative;background-color: white;}#sk-container-id-7 div.sk-parallel-item:first-child::after {align-self: flex-end;width: 50%;}#sk-container-id-7 div.sk-parallel-item:last-child::after {align-self: flex-start;width: 50%;}#sk-container-id-7 div.sk-parallel-item:only-child::after {width: 0;}#sk-container-id-7 div.sk-dashed-wrapped {border: 1px dashed gray;margin: 0 0.4em 0.5em 0.4em;box-sizing: border-box;padding-bottom: 0.4em;background-color: white;}#sk-container-id-7 div.sk-label label {font-family: monospace;font-weight: bold;display: inline-block;line-height: 1.2em;}#sk-container-id-7 div.sk-label-container {text-align: center;}#sk-container-id-7 div.sk-container {/* jupyter's `normalize.less` sets `[hidden] { display: none; }` but bootstrap.min.css set `[hidden] { display: none !important; }` so we also need the `!important` here to be able to override the default hidden behavior on the sphinx rendered scikit-learn.org. See: https://github.com/scikit-learn/scikit-learn/issues/21755 */display: inline-block !important;position: relative;}#sk-container-id-7 div.sk-text-repr-fallback {display: none;}</style><div id=\"sk-container-id-7\" class=\"sk-top-container\"><div class=\"sk-text-repr-fallback\"><pre>GridSearchCV(cv=5, estimator=GradientBoostingClassifier(),\n",
       "             param_grid={&#x27;learning_rate&#x27;: [0.1], &#x27;max_depth&#x27;: [3],\n",
       "                         &#x27;min_samples_leaf&#x27;: [1, 2, 4, 8],\n",
       "                         &#x27;min_samples_split&#x27;: [2, 5, 10, 20],\n",
       "                         &#x27;n_estimators&#x27;: [200], &#x27;subsample&#x27;: [0.8, 0.9, 1.0]},\n",
       "             scoring=&#x27;accuracy&#x27;, verbose=20000)</pre><b>In a Jupyter environment, please rerun this cell to show the HTML representation or trust the notebook. <br />On GitHub, the HTML representation is unable to render, please try loading this page with nbviewer.org.</b></div><div class=\"sk-container\" hidden><div class=\"sk-item sk-dashed-wrapped\"><div class=\"sk-label-container\"><div class=\"sk-label sk-toggleable\"><input class=\"sk-toggleable__control sk-hidden--visually\" id=\"sk-estimator-id-17\" type=\"checkbox\" ><label for=\"sk-estimator-id-17\" class=\"sk-toggleable__label sk-toggleable__label-arrow\">GridSearchCV</label><div class=\"sk-toggleable__content\"><pre>GridSearchCV(cv=5, estimator=GradientBoostingClassifier(),\n",
       "             param_grid={&#x27;learning_rate&#x27;: [0.1], &#x27;max_depth&#x27;: [3],\n",
       "                         &#x27;min_samples_leaf&#x27;: [1, 2, 4, 8],\n",
       "                         &#x27;min_samples_split&#x27;: [2, 5, 10, 20],\n",
       "                         &#x27;n_estimators&#x27;: [200], &#x27;subsample&#x27;: [0.8, 0.9, 1.0]},\n",
       "             scoring=&#x27;accuracy&#x27;, verbose=20000)</pre></div></div></div><div class=\"sk-parallel\"><div class=\"sk-parallel-item\"><div class=\"sk-item\"><div class=\"sk-label-container\"><div class=\"sk-label sk-toggleable\"><input class=\"sk-toggleable__control sk-hidden--visually\" id=\"sk-estimator-id-18\" type=\"checkbox\" ><label for=\"sk-estimator-id-18\" class=\"sk-toggleable__label sk-toggleable__label-arrow\">estimator: GradientBoostingClassifier</label><div class=\"sk-toggleable__content\"><pre>GradientBoostingClassifier()</pre></div></div></div><div class=\"sk-serial\"><div class=\"sk-item\"><div class=\"sk-estimator sk-toggleable\"><input class=\"sk-toggleable__control sk-hidden--visually\" id=\"sk-estimator-id-19\" type=\"checkbox\" ><label for=\"sk-estimator-id-19\" class=\"sk-toggleable__label sk-toggleable__label-arrow\">GradientBoostingClassifier</label><div class=\"sk-toggleable__content\"><pre>GradientBoostingClassifier()</pre></div></div></div></div></div></div></div></div></div></div>"
      ],
      "text/plain": [
       "GridSearchCV(cv=5, estimator=GradientBoostingClassifier(),\n",
       "             param_grid={'learning_rate': [0.1], 'max_depth': [3],\n",
       "                         'min_samples_leaf': [1, 2, 4, 8],\n",
       "                         'min_samples_split': [2, 5, 10, 20],\n",
       "                         'n_estimators': [200], 'subsample': [0.8, 0.9, 1.0]},\n",
       "             scoring='accuracy', verbose=20000)"
      ]
     },
     "execution_count": 90,
     "metadata": {},
     "output_type": "execute_result"
    }
   ],
   "source": [
    "gb = GradientBoostingClassifier()\n",
    "\n",
    "grid_search = GridSearchCV(gb, param_grid, cv=5, scoring='accuracy', verbose=20000)\n",
    "grid_search.fit(X_train, y_train)"
   ]
  },
  {
   "cell_type": "code",
   "execution_count": 91,
   "metadata": {},
   "outputs": [
    {
     "name": "stdout",
     "output_type": "stream",
     "text": [
      "Best Hiperparameters: {'learning_rate': 0.1, 'max_depth': 3, 'min_samples_leaf': 1, 'min_samples_split': 10, 'n_estimators': 200, 'subsample': 0.8}\n"
     ]
    }
   ],
   "source": [
    "best_params = grid_search.best_params_\n",
    "print(f\"Best Hiperparameters: {best_params}\")"
   ]
  },
  {
   "cell_type": "code",
   "execution_count": 92,
   "metadata": {},
   "outputs": [
    {
     "name": "stdout",
     "output_type": "stream",
     "text": [
      "Gradient Boosting (Tuned) - Mean Accuracy: 0.5943\n"
     ]
    }
   ],
   "source": [
    "scores = cross_val_score(gb, X_train, y_train, cv=5, scoring='accuracy')\n",
    "print(f\"Gradient Boosting (Tuned) - Mean Accuracy: {np.mean(scores):.4f}\")"
   ]
  },
  {
   "cell_type": "markdown",
   "metadata": {},
   "source": [
    "### 3.3. Treinar o modelo\n",
    "Treinando o modelo com os melhores hiperparâmetros encontrados no conjunto de treinamento completo."
   ]
  },
  {
   "cell_type": "code",
   "execution_count": 93,
   "metadata": {},
   "outputs": [
    {
     "data": {
      "text/html": [
       "<style>#sk-container-id-8 {color: black;}#sk-container-id-8 pre{padding: 0;}#sk-container-id-8 div.sk-toggleable {background-color: white;}#sk-container-id-8 label.sk-toggleable__label {cursor: pointer;display: block;width: 100%;margin-bottom: 0;padding: 0.3em;box-sizing: border-box;text-align: center;}#sk-container-id-8 label.sk-toggleable__label-arrow:before {content: \"▸\";float: left;margin-right: 0.25em;color: #696969;}#sk-container-id-8 label.sk-toggleable__label-arrow:hover:before {color: black;}#sk-container-id-8 div.sk-estimator:hover label.sk-toggleable__label-arrow:before {color: black;}#sk-container-id-8 div.sk-toggleable__content {max-height: 0;max-width: 0;overflow: hidden;text-align: left;background-color: #f0f8ff;}#sk-container-id-8 div.sk-toggleable__content pre {margin: 0.2em;color: black;border-radius: 0.25em;background-color: #f0f8ff;}#sk-container-id-8 input.sk-toggleable__control:checked~div.sk-toggleable__content {max-height: 200px;max-width: 100%;overflow: auto;}#sk-container-id-8 input.sk-toggleable__control:checked~label.sk-toggleable__label-arrow:before {content: \"▾\";}#sk-container-id-8 div.sk-estimator input.sk-toggleable__control:checked~label.sk-toggleable__label {background-color: #d4ebff;}#sk-container-id-8 div.sk-label input.sk-toggleable__control:checked~label.sk-toggleable__label {background-color: #d4ebff;}#sk-container-id-8 input.sk-hidden--visually {border: 0;clip: rect(1px 1px 1px 1px);clip: rect(1px, 1px, 1px, 1px);height: 1px;margin: -1px;overflow: hidden;padding: 0;position: absolute;width: 1px;}#sk-container-id-8 div.sk-estimator {font-family: monospace;background-color: #f0f8ff;border: 1px dotted black;border-radius: 0.25em;box-sizing: border-box;margin-bottom: 0.5em;}#sk-container-id-8 div.sk-estimator:hover {background-color: #d4ebff;}#sk-container-id-8 div.sk-parallel-item::after {content: \"\";width: 100%;border-bottom: 1px solid gray;flex-grow: 1;}#sk-container-id-8 div.sk-label:hover label.sk-toggleable__label {background-color: #d4ebff;}#sk-container-id-8 div.sk-serial::before {content: \"\";position: absolute;border-left: 1px solid gray;box-sizing: border-box;top: 0;bottom: 0;left: 50%;z-index: 0;}#sk-container-id-8 div.sk-serial {display: flex;flex-direction: column;align-items: center;background-color: white;padding-right: 0.2em;padding-left: 0.2em;position: relative;}#sk-container-id-8 div.sk-item {position: relative;z-index: 1;}#sk-container-id-8 div.sk-parallel {display: flex;align-items: stretch;justify-content: center;background-color: white;position: relative;}#sk-container-id-8 div.sk-item::before, #sk-container-id-8 div.sk-parallel-item::before {content: \"\";position: absolute;border-left: 1px solid gray;box-sizing: border-box;top: 0;bottom: 0;left: 50%;z-index: -1;}#sk-container-id-8 div.sk-parallel-item {display: flex;flex-direction: column;z-index: 1;position: relative;background-color: white;}#sk-container-id-8 div.sk-parallel-item:first-child::after {align-self: flex-end;width: 50%;}#sk-container-id-8 div.sk-parallel-item:last-child::after {align-self: flex-start;width: 50%;}#sk-container-id-8 div.sk-parallel-item:only-child::after {width: 0;}#sk-container-id-8 div.sk-dashed-wrapped {border: 1px dashed gray;margin: 0 0.4em 0.5em 0.4em;box-sizing: border-box;padding-bottom: 0.4em;background-color: white;}#sk-container-id-8 div.sk-label label {font-family: monospace;font-weight: bold;display: inline-block;line-height: 1.2em;}#sk-container-id-8 div.sk-label-container {text-align: center;}#sk-container-id-8 div.sk-container {/* jupyter's `normalize.less` sets `[hidden] { display: none; }` but bootstrap.min.css set `[hidden] { display: none !important; }` so we also need the `!important` here to be able to override the default hidden behavior on the sphinx rendered scikit-learn.org. See: https://github.com/scikit-learn/scikit-learn/issues/21755 */display: inline-block !important;position: relative;}#sk-container-id-8 div.sk-text-repr-fallback {display: none;}</style><div id=\"sk-container-id-8\" class=\"sk-top-container\"><div class=\"sk-text-repr-fallback\"><pre>GradientBoostingClassifier(min_samples_split=10, n_estimators=200,\n",
       "                           subsample=0.8)</pre><b>In a Jupyter environment, please rerun this cell to show the HTML representation or trust the notebook. <br />On GitHub, the HTML representation is unable to render, please try loading this page with nbviewer.org.</b></div><div class=\"sk-container\" hidden><div class=\"sk-item\"><div class=\"sk-estimator sk-toggleable\"><input class=\"sk-toggleable__control sk-hidden--visually\" id=\"sk-estimator-id-20\" type=\"checkbox\" checked><label for=\"sk-estimator-id-20\" class=\"sk-toggleable__label sk-toggleable__label-arrow\">GradientBoostingClassifier</label><div class=\"sk-toggleable__content\"><pre>GradientBoostingClassifier(min_samples_split=10, n_estimators=200,\n",
       "                           subsample=0.8)</pre></div></div></div></div></div>"
      ],
      "text/plain": [
       "GradientBoostingClassifier(min_samples_split=10, n_estimators=200,\n",
       "                           subsample=0.8)"
      ]
     },
     "execution_count": 93,
     "metadata": {},
     "output_type": "execute_result"
    }
   ],
   "source": [
    "# Treinando o modelo com os melhores hiperparâmetros no conjunto de treinamento completo\n",
    "best_gb = GradientBoostingClassifier(**best_params)\n",
    "best_gb.fit(X_train, y_train)"
   ]
  },
  {
   "cell_type": "markdown",
   "metadata": {},
   "source": [
    "### 3.4. Fazer previsões\n",
    "Fazendo previsões no conjunto de testes usando o modelo que foi treinado."
   ]
  },
  {
   "cell_type": "code",
   "execution_count": 94,
   "metadata": {},
   "outputs": [],
   "source": [
    "# Fazer previsões no conjunto de testes\n",
    "best_gb_pred = best_gb.predict(X_test)"
   ]
  },
  {
   "cell_type": "markdown",
   "metadata": {},
   "source": [
    "## 4. Arquivo de respostas\n",
    "Aqui estou criando o arquivo de respostas com as previsões, que será enviado ao Kaggle."
   ]
  },
  {
   "cell_type": "code",
   "execution_count": 95,
   "metadata": {},
   "outputs": [],
   "source": [
    "kaggle = pd.DataFrame({'id_solicitante': id_soliciante, 'inadimplente': best_gb_pred})"
   ]
  },
  {
   "cell_type": "code",
   "execution_count": 96,
   "metadata": {},
   "outputs": [],
   "source": [
    "kaggle.to_csv('AprvCredito.csv', index = False)"
   ]
  },
  {
   "cell_type": "code",
   "execution_count": 97,
   "metadata": {},
   "outputs": [
    {
     "data": {
      "text/html": [
       "<div>\n",
       "<style scoped>\n",
       "    .dataframe tbody tr th:only-of-type {\n",
       "        vertical-align: middle;\n",
       "    }\n",
       "\n",
       "    .dataframe tbody tr th {\n",
       "        vertical-align: top;\n",
       "    }\n",
       "\n",
       "    .dataframe thead th {\n",
       "        text-align: right;\n",
       "    }\n",
       "</style>\n",
       "<table border=\"1\" class=\"dataframe\">\n",
       "  <thead>\n",
       "    <tr style=\"text-align: right;\">\n",
       "      <th></th>\n",
       "      <th>id_solicitante</th>\n",
       "      <th>inadimplente</th>\n",
       "    </tr>\n",
       "  </thead>\n",
       "  <tbody>\n",
       "    <tr>\n",
       "      <th>0</th>\n",
       "      <td>20001</td>\n",
       "      <td>1</td>\n",
       "    </tr>\n",
       "    <tr>\n",
       "      <th>1</th>\n",
       "      <td>20002</td>\n",
       "      <td>0</td>\n",
       "    </tr>\n",
       "    <tr>\n",
       "      <th>2</th>\n",
       "      <td>20003</td>\n",
       "      <td>1</td>\n",
       "    </tr>\n",
       "    <tr>\n",
       "      <th>3</th>\n",
       "      <td>20004</td>\n",
       "      <td>0</td>\n",
       "    </tr>\n",
       "    <tr>\n",
       "      <th>4</th>\n",
       "      <td>20005</td>\n",
       "      <td>0</td>\n",
       "    </tr>\n",
       "    <tr>\n",
       "      <th>...</th>\n",
       "      <td>...</td>\n",
       "      <td>...</td>\n",
       "    </tr>\n",
       "    <tr>\n",
       "      <th>4995</th>\n",
       "      <td>24996</td>\n",
       "      <td>1</td>\n",
       "    </tr>\n",
       "    <tr>\n",
       "      <th>4996</th>\n",
       "      <td>24997</td>\n",
       "      <td>1</td>\n",
       "    </tr>\n",
       "    <tr>\n",
       "      <th>4997</th>\n",
       "      <td>24998</td>\n",
       "      <td>1</td>\n",
       "    </tr>\n",
       "    <tr>\n",
       "      <th>4998</th>\n",
       "      <td>24999</td>\n",
       "      <td>1</td>\n",
       "    </tr>\n",
       "    <tr>\n",
       "      <th>4999</th>\n",
       "      <td>25000</td>\n",
       "      <td>1</td>\n",
       "    </tr>\n",
       "  </tbody>\n",
       "</table>\n",
       "<p>5000 rows × 2 columns</p>\n",
       "</div>"
      ],
      "text/plain": [
       "      id_solicitante  inadimplente\n",
       "0              20001             1\n",
       "1              20002             0\n",
       "2              20003             1\n",
       "3              20004             0\n",
       "4              20005             0\n",
       "...              ...           ...\n",
       "4995           24996             1\n",
       "4996           24997             1\n",
       "4997           24998             1\n",
       "4998           24999             1\n",
       "4999           25000             1\n",
       "\n",
       "[5000 rows x 2 columns]"
      ]
     },
     "execution_count": 97,
     "metadata": {},
     "output_type": "execute_result"
    }
   ],
   "source": [
    "kaggle"
   ]
  }
 ],
 "metadata": {
  "kernelspec": {
   "display_name": "Python 3",
   "language": "python",
   "name": "python3"
  },
  "language_info": {
   "codemirror_mode": {
    "name": "ipython",
    "version": 3
   },
   "file_extension": ".py",
   "mimetype": "text/x-python",
   "name": "python",
   "nbconvert_exporter": "python",
   "pygments_lexer": "ipython3",
   "version": "3.11.3"
  },
  "orig_nbformat": 4
 },
 "nbformat": 4,
 "nbformat_minor": 2
}
